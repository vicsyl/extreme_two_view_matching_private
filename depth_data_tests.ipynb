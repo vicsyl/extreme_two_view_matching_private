{
 "cells": [
  {
   "cell_type": "code",
   "execution_count": 1,
   "id": "equipped-ceramic",
   "metadata": {},
   "outputs": [],
   "source": [
    "%matplotlib inline\n",
    "import numpy as np\n",
    "import matplotlib.pyplot as plt\n",
    "%matplotlib widget\n",
    "\n",
    "from config import Config\n",
    "from depth_to_normals_tests import *\n",
    "from img_utils import show_normals_components\n",
    "\n",
    "# import cv2 as cv\n",
    "# from scene_info import read_cameras, CameraEntry\n",
    "# from dataclasses import dataclass\n",
    "# from depth_to_normals import compute_normals_simple_diff_convolution_simple\n"
   ]
  },
  {
   "cell_type": "code",
   "execution_count": 2,
   "id": "upset-segment",
   "metadata": {
    "scrolled": false
   },
   "outputs": [],
   "source": [
    "def test_depth_to_normals(old_implementation=True, impl=\"svd\"):\n",
    "\n",
    "    planes_coeffs = np.array([\n",
    "        [0, 0, 1, -1],\n",
    "        [0, 0, 1, -100],\n",
    "        [1, 0, 1, -1],\n",
    "        [1, 0, 1, -100000],\n",
    "        [0, 1, 1, -1],\n",
    "        [1, 2, 2, -1],\n",
    "        [1, 3, 3, -1],\n",
    "        [1, 1, 1, -1],\n",
    "        [2, 1, 2, -1],\n",
    "        [3, 1, 3, -1],\n",
    "    ])\n",
    "\n",
    "    cameras = read_cameras(\"scene1\")\n",
    "    first_camera = next(iter(cameras.values()))\n",
    "\n",
    "    for plane in planes_coeffs:\n",
    "\n",
    "        #plane = -plane\n",
    "\n",
    "        exact = plane[:3].copy()\n",
    "        exact = -exact / np.linalg.norm(exact)\n",
    "        print(\"\\n\\n\\n\\nTesting synthetic depth map for plane coeffs (ax + by + cz + d = 0): {}\".format(plane))\n",
    "\n",
    "        dsd = DepthSyntheticData(plane=plane, camera=first_camera, file_dir_and_name=get_file_dir_and_name(plane))\n",
    "        depth_map_of_plane(dsd, allow_and_nullify_negative_depths=False, save=True)\n",
    "\n",
    "        mask = torch.tensor([[0.5, 0, -0.5]]).float()\n",
    "\n",
    "        if impl == \"svd\":\n",
    "            depth, normals, clustered_normals, normal_indices = \\\n",
    "                compute_normals_from_svd(dsd.camera,\n",
    "                                         dsd.file_dir_and_name[0],\n",
    "                                         dsd.file_dir_and_name[1],\n",
    "                                         save=False,\n",
    "                                         output_directory=dsd.file_dir_and_name[0],\n",
    "                                         )\n",
    "\n",
    "        else:\n",
    "            depth, normals, clustered_normals, normal_indices = \\\n",
    "                compute_normals_simple_diff_convolution_simple(dsd.camera,\n",
    "                                                               dsd.file_dir_and_name[0],\n",
    "                                                               dsd.file_dir_and_name[1],\n",
    "                                                               save=False,\n",
    "                                                               output_directory=dsd.file_dir_and_name[0],\n",
    "                                                               override_mask=mask,\n",
    "                                                               old_implementation=old_implementation\n",
    "                                                               )\n",
    "\n",
    "\n",
    "        normals_diff = normals - dsd.plane[:3]\n",
    "        show_normals_components(normals_diff, \"difference from exact result\", (30.0, 20.0))\n",
    "\n",
    "        if len(normals.shape) == 5:\n",
    "            normals = normals.squeeze(dim=0).squeeze(dim=0)\n",
    "\n",
    "        normals_np = normals.numpy()[5:-5, 5:-5]\n",
    "        diff = normals_np - exact\n",
    "\n",
    "\n",
    "        maxima = np.max(normals_np, axis=(0, 1))\n",
    "        minima = np.min(normals_np, axis=(0, 1))\n",
    "        max_dev = maxima - exact\n",
    "        min_dev = minima - exact\n",
    "\n",
    "        print(\"exact normal of the plane (x, y, y): {}\".format(exact))\n",
    "        print(\"normal component maxima (x, y, y): {}\".format(maxima))\n",
    "        print(\"normal component minima (x, y, y): {}\".format(minima))\n",
    "        print(\"difference of normal component maxima from the exact values (x, y, y): {}\".format(max_dev))\n",
    "        print(\"difference of normal component minima from the exact values (x, y, y): {}\".format(min_dev))\n",
    "\n"
   ]
  },
  {
   "cell_type": "code",
   "execution_count": 3,
   "id": "brutal-whole",
   "metadata": {
    "scrolled": false
   },
   "outputs": [
    {
     "name": "stdout",
     "output_type": "stream",
     "text": [
      "\n",
      "\n",
      "\n",
      "\n",
      "Testing synthetic depth map for plane coeffs (ax + by + cz + d = 0): [ 0  0  1 -1]\n",
      "\n",
      "WARNING: number of clusters unknown for depth_map_0_0_1_m1.npy, defaulting to 2 ...\n"
     ]
    },
    {
     "data": {
      "application/vnd.jupyter.widget-view+json": {
       "model_id": "2c790ef16df84b9c85a82a1a2c878f67",
       "version_major": 2,
       "version_minor": 0
      },
      "text/plain": [
       "Canvas(toolbar=Toolbar(toolitems=[('Home', 'Reset original view', 'home', 'home'), ('Back', 'Back to previous …"
      ]
     },
     "metadata": {},
     "output_type": "display_data"
    },
    {
     "name": "stdout",
     "output_type": "stream",
     "text": [
      "clustering normals starting\n",
      "clustering normals finished. It took 0.6255159378051758\n",
      "show loc: False\n"
     ]
    },
    {
     "data": {
      "application/vnd.jupyter.widget-view+json": {
       "model_id": "057e60237a564540ad0f2a436d1ca15f",
       "version_major": 2,
       "version_minor": 0
      },
      "text/plain": [
       "Canvas(toolbar=Toolbar(toolitems=[('Home', 'Reset original view', 'home', 'home'), ('Back', 'Back to previous …"
      ]
     },
     "metadata": {},
     "output_type": "display_data"
    },
    {
     "name": "stdout",
     "output_type": "stream",
     "text": [
      "angle between normal 0 and 1: 0.0 degrees\n"
     ]
    },
    {
     "data": {
      "application/vnd.jupyter.widget-view+json": {
       "model_id": "df450b78542a40d39c84f923d413b163",
       "version_major": 2,
       "version_minor": 0
      },
      "text/plain": [
       "Canvas(toolbar=Toolbar(toolitems=[('Home', 'Reset original view', 'home', 'home'), ('Back', 'Back to previous …"
      ]
     },
     "metadata": {},
     "output_type": "display_data"
    },
    {
     "name": "stdout",
     "output_type": "stream",
     "text": [
      "exact normal of the plane (x, y, y): [ 0.  0. -1.]\n",
      "normal component maxima (x, y, y): [ 1.5589385e-05  1.5596963e-05 -1.0000000e+00]\n",
      "normal component minima (x, y, y): [-1.5589378e-05 -1.5596963e-05 -1.0000000e+00]\n",
      "difference of normal component maxima from the exact values (x, y, y): [1.55893849e-05 1.55969628e-05 0.00000000e+00]\n",
      "difference of normal component minima from the exact values (x, y, y): [-1.55893777e-05 -1.55969628e-05  0.00000000e+00]\n",
      "\n",
      "\n",
      "\n",
      "\n",
      "Testing synthetic depth map for plane coeffs (ax + by + cz + d = 0): [   0    0    1 -100]\n",
      "\n",
      "WARNING: number of clusters unknown for depth_map_0_0_1_m100.npy, defaulting to 2 ...\n"
     ]
    },
    {
     "data": {
      "application/vnd.jupyter.widget-view+json": {
       "model_id": "b7309fcd1239458f85405769569c4d32",
       "version_major": 2,
       "version_minor": 0
      },
      "text/plain": [
       "Canvas(toolbar=Toolbar(toolitems=[('Home', 'Reset original view', 'home', 'home'), ('Back', 'Back to previous …"
      ]
     },
     "metadata": {},
     "output_type": "display_data"
    },
    {
     "name": "stdout",
     "output_type": "stream",
     "text": [
      "clustering normals starting\n",
      "clustering normals finished. It took 0.6242880821228027\n",
      "show loc: False\n"
     ]
    },
    {
     "data": {
      "application/vnd.jupyter.widget-view+json": {
       "model_id": "0dbb833275a249f3b191a806fb5490df",
       "version_major": 2,
       "version_minor": 0
      },
      "text/plain": [
       "Canvas(toolbar=Toolbar(toolitems=[('Home', 'Reset original view', 'home', 'home'), ('Back', 'Back to previous …"
      ]
     },
     "metadata": {},
     "output_type": "display_data"
    },
    {
     "name": "stdout",
     "output_type": "stream",
     "text": [
      "angle between normal 0 and 1: 0.0 degrees\n"
     ]
    },
    {
     "data": {
      "application/vnd.jupyter.widget-view+json": {
       "model_id": "137c2c90d5654a4f8a3743312155136a",
       "version_major": 2,
       "version_minor": 0
      },
      "text/plain": [
       "Canvas(toolbar=Toolbar(toolitems=[('Home', 'Reset original view', 'home', 'home'), ('Back', 'Back to previous …"
      ]
     },
     "metadata": {},
     "output_type": "display_data"
    },
    {
     "name": "stdout",
     "output_type": "stream",
     "text": [
      "exact normal of the plane (x, y, y): [ 0.  0. -1.]\n",
      "normal component maxima (x, y, y): [ 1.24715025e-05  1.31130219e-05 -1.00000000e+00]\n",
      "normal component minima (x, y, y): [-1.24715125e-05 -1.30951039e-05 -1.00000000e+00]\n",
      "difference of normal component maxima from the exact values (x, y, y): [1.24715025e-05 1.31130219e-05 0.00000000e+00]\n",
      "difference of normal component minima from the exact values (x, y, y): [-1.24715125e-05 -1.30951039e-05  0.00000000e+00]\n",
      "\n",
      "\n",
      "\n",
      "\n",
      "Testing synthetic depth map for plane coeffs (ax + by + cz + d = 0): [ 1  0  1 -1]\n",
      "\n",
      "WARNING: number of clusters unknown for depth_map_1_0_1_m1.npy, defaulting to 2 ...\n"
     ]
    },
    {
     "data": {
      "application/vnd.jupyter.widget-view+json": {
       "model_id": "a8916a90ef814e929932e88e178c2206",
       "version_major": 2,
       "version_minor": 0
      },
      "text/plain": [
       "Canvas(toolbar=Toolbar(toolitems=[('Home', 'Reset original view', 'home', 'home'), ('Back', 'Back to previous …"
      ]
     },
     "metadata": {},
     "output_type": "display_data"
    },
    {
     "name": "stdout",
     "output_type": "stream",
     "text": [
      "clustering normals starting\n",
      "clustering normals finished. It took 0.6092028617858887\n",
      "show loc: False\n"
     ]
    },
    {
     "data": {
      "application/vnd.jupyter.widget-view+json": {
       "model_id": "aa6af8d25de949998d3be97b3d177b37",
       "version_major": 2,
       "version_minor": 0
      },
      "text/plain": [
       "Canvas(toolbar=Toolbar(toolitems=[('Home', 'Reset original view', 'home', 'home'), ('Back', 'Back to previous …"
      ]
     },
     "metadata": {},
     "output_type": "display_data"
    },
    {
     "name": "stdout",
     "output_type": "stream",
     "text": [
      "angle between normal 0 and 1: nan degrees\n"
     ]
    },
    {
     "data": {
      "application/vnd.jupyter.widget-view+json": {
       "model_id": "742d1f8b261041fdb2f1d3082fce7830",
       "version_major": 2,
       "version_minor": 0
      },
      "text/plain": [
       "Canvas(toolbar=Toolbar(toolitems=[('Home', 'Reset original view', 'home', 'home'), ('Back', 'Back to previous …"
      ]
     },
     "metadata": {},
     "output_type": "display_data"
    },
    {
     "name": "stdout",
     "output_type": "stream",
     "text": [
      "exact normal of the plane (x, y, y): [-0.70710678  0.         -0.70710678]\n",
      "normal component maxima (x, y, y): [-7.0710009e-01  1.2019250e-05 -7.0710003e-01]\n",
      "normal component minima (x, y, y): [-7.0711356e-01 -1.2019251e-05 -7.0711350e-01]\n",
      "difference of normal component maxima from the exact values (x, y, y): [6.68782183e-06 1.20192499e-05 6.74742648e-06]\n",
      "difference of normal component minima from the exact values (x, y, y): [-6.78282789e-06 -1.20192508e-05 -6.72322324e-06]\n",
      "\n",
      "\n",
      "\n",
      "\n",
      "Testing synthetic depth map for plane coeffs (ax + by + cz + d = 0): [      1       0       1 -100000]\n",
      "\n",
      "WARNING: number of clusters unknown for depth_map_1_0_1_m100000.npy, defaulting to 2 ...\n"
     ]
    },
    {
     "data": {
      "application/vnd.jupyter.widget-view+json": {
       "model_id": "81139e09b14941b4b8c1d36c061e300e",
       "version_major": 2,
       "version_minor": 0
      },
      "text/plain": [
       "Canvas(toolbar=Toolbar(toolitems=[('Home', 'Reset original view', 'home', 'home'), ('Back', 'Back to previous …"
      ]
     },
     "metadata": {},
     "output_type": "display_data"
    },
    {
     "name": "stdout",
     "output_type": "stream",
     "text": [
      "clustering normals starting\n",
      "clustering normals finished. It took 0.5970911979675293\n",
      "show loc: False\n"
     ]
    },
    {
     "data": {
      "application/vnd.jupyter.widget-view+json": {
       "model_id": "0fbb8671ed18463eb4c6be86f25ba392",
       "version_major": 2,
       "version_minor": 0
      },
      "text/plain": [
       "Canvas(toolbar=Toolbar(toolitems=[('Home', 'Reset original view', 'home', 'home'), ('Back', 'Back to previous …"
      ]
     },
     "metadata": {},
     "output_type": "display_data"
    },
    {
     "name": "stdout",
     "output_type": "stream",
     "text": [
      "angle between normal 0 and 1: nan degrees\n"
     ]
    },
    {
     "data": {
      "application/vnd.jupyter.widget-view+json": {
       "model_id": "4856825215654cb3a75002095f053a4e",
       "version_major": 2,
       "version_minor": 0
      },
      "text/plain": [
       "Canvas(toolbar=Toolbar(toolitems=[('Home', 'Reset original view', 'home', 'home'), ('Back', 'Back to previous …"
      ]
     },
     "metadata": {},
     "output_type": "display_data"
    },
    {
     "name": "stdout",
     "output_type": "stream",
     "text": [
      "exact normal of the plane (x, y, y): [-0.70710678  0.         -0.70710678]\n",
      "normal component maxima (x, y, y): [-7.0709842e-01  1.2924000e-05 -7.0709884e-01]\n",
      "normal component minima (x, y, y): [-7.0711482e-01 -1.2996478e-05 -7.0711523e-01]\n",
      "difference of normal component maxima from the exact values (x, y, y): [8.35675189e-06 1.29239997e-05 7.93951937e-06]\n",
      "difference of normal component minima from the exact values (x, y, y): [-8.03452543e-06 -1.29964783e-05 -8.45175794e-06]\n",
      "\n",
      "\n",
      "\n",
      "\n",
      "Testing synthetic depth map for plane coeffs (ax + by + cz + d = 0): [ 0  1  1 -1]\n",
      "\n",
      "WARNING: number of clusters unknown for depth_map_0_1_1_m1.npy, defaulting to 2 ...\n"
     ]
    },
    {
     "data": {
      "application/vnd.jupyter.widget-view+json": {
       "model_id": "09fc2185ce72495d86e3c571385dc07f",
       "version_major": 2,
       "version_minor": 0
      },
      "text/plain": [
       "Canvas(toolbar=Toolbar(toolitems=[('Home', 'Reset original view', 'home', 'home'), ('Back', 'Back to previous …"
      ]
     },
     "metadata": {},
     "output_type": "display_data"
    },
    {
     "name": "stdout",
     "output_type": "stream",
     "text": [
      "clustering normals starting\n",
      "clustering normals finished. It took 0.6030561923980713\n",
      "show loc: False\n"
     ]
    },
    {
     "data": {
      "application/vnd.jupyter.widget-view+json": {
       "model_id": "8a036a59fef3417b87bfb7409b84385a",
       "version_major": 2,
       "version_minor": 0
      },
      "text/plain": [
       "Canvas(toolbar=Toolbar(toolitems=[('Home', 'Reset original view', 'home', 'home'), ('Back', 'Back to previous …"
      ]
     },
     "metadata": {},
     "output_type": "display_data"
    },
    {
     "name": "stdout",
     "output_type": "stream",
     "text": [
      "angle between normal 0 and 1: nan degrees\n"
     ]
    },
    {
     "data": {
      "application/vnd.jupyter.widget-view+json": {
       "model_id": "2dd22e06216c4305903325fdc7fe5afa",
       "version_major": 2,
       "version_minor": 0
      },
      "text/plain": [
       "Canvas(toolbar=Toolbar(toolitems=[('Home', 'Reset original view', 'home', 'home'), ('Back', 'Back to previous …"
      ]
     },
     "metadata": {},
     "output_type": "display_data"
    },
    {
     "name": "stdout",
     "output_type": "stream",
     "text": [
      "exact normal of the plane (x, y, y): [ 0.         -0.70710678 -0.70710678]\n",
      "normal component maxima (x, y, y): [ 1.2819194e-05 -7.0709658e-01 -7.0709485e-01]\n",
      "normal component minima (x, y, y): [-1.2827214e-05 -7.0711875e-01 -7.0711696e-01]\n",
      "difference of normal component maxima from the exact values (x, y, y): [1.28191941e-05 1.02044959e-05 1.19330306e-05]\n",
      "difference of normal component minima from the exact values (x, y, y): [-1.28272141e-05 -1.19684320e-05 -1.01802926e-05]\n",
      "\n",
      "\n",
      "\n",
      "\n",
      "Testing synthetic depth map for plane coeffs (ax + by + cz + d = 0): [ 1  2  2 -1]\n",
      "\n",
      "WARNING: number of clusters unknown for depth_map_1_2_2_m1.npy, defaulting to 2 ...\n"
     ]
    },
    {
     "data": {
      "application/vnd.jupyter.widget-view+json": {
       "model_id": "091b415e7285408980852f3c81354ea8",
       "version_major": 2,
       "version_minor": 0
      },
      "text/plain": [
       "Canvas(toolbar=Toolbar(toolitems=[('Home', 'Reset original view', 'home', 'home'), ('Back', 'Back to previous …"
      ]
     },
     "metadata": {},
     "output_type": "display_data"
    },
    {
     "name": "stdout",
     "output_type": "stream",
     "text": [
      "clustering normals starting\n",
      "clustering normals finished. It took 0.6097390651702881\n",
      "show loc: False\n"
     ]
    },
    {
     "data": {
      "application/vnd.jupyter.widget-view+json": {
       "model_id": "2114b7c35b584315aaed75e5b20ae71c",
       "version_major": 2,
       "version_minor": 0
      },
      "text/plain": [
       "Canvas(toolbar=Toolbar(toolitems=[('Home', 'Reset original view', 'home', 'home'), ('Back', 'Back to previous …"
      ]
     },
     "metadata": {},
     "output_type": "display_data"
    },
    {
     "name": "stdout",
     "output_type": "stream",
     "text": [
      "angle between normal 0 and 1: nan degrees\n"
     ]
    },
    {
     "data": {
      "application/vnd.jupyter.widget-view+json": {
       "model_id": "a4cbaacc0eef4e918b28d3447ac441a8",
       "version_major": 2,
       "version_minor": 0
      },
      "text/plain": [
       "Canvas(toolbar=Toolbar(toolitems=[('Home', 'Reset original view', 'home', 'home'), ('Back', 'Back to previous …"
      ]
     },
     "metadata": {},
     "output_type": "display_data"
    },
    {
     "name": "stdout",
     "output_type": "stream",
     "text": [
      "exact normal of the plane (x, y, y): [-0.33333333 -0.66666667 -0.66666667]\n",
      "normal component maxima (x, y, y): [-0.3333193  -0.6666555  -0.66665596]\n",
      "normal component minima (x, y, y): [-0.33334512 -0.66667753 -0.66667783]\n",
      "difference of normal component maxima from the exact values (x, y, y): [1.40269597e-05 1.11858050e-05 1.07089678e-05]\n",
      "difference of normal component minima from the exact values (x, y, y): [-1.17818515e-05 -1.08679136e-05 -1.11659368e-05]\n",
      "\n",
      "\n",
      "\n",
      "\n",
      "Testing synthetic depth map for plane coeffs (ax + by + cz + d = 0): [ 1  3  3 -1]\n",
      "\n",
      "WARNING: number of clusters unknown for depth_map_1_3_3_m1.npy, defaulting to 2 ...\n"
     ]
    },
    {
     "data": {
      "application/vnd.jupyter.widget-view+json": {
       "model_id": "7fda2bbd066c4126bf00f147c85e0f5b",
       "version_major": 2,
       "version_minor": 0
      },
      "text/plain": [
       "Canvas(toolbar=Toolbar(toolitems=[('Home', 'Reset original view', 'home', 'home'), ('Back', 'Back to previous …"
      ]
     },
     "metadata": {},
     "output_type": "display_data"
    },
    {
     "name": "stdout",
     "output_type": "stream",
     "text": [
      "clustering normals starting\n",
      "clustering normals finished. It took 0.5999557971954346\n",
      "show loc: False\n"
     ]
    },
    {
     "data": {
      "application/vnd.jupyter.widget-view+json": {
       "model_id": "6bd5ec6f50b943debc330e00ce1aa150",
       "version_major": 2,
       "version_minor": 0
      },
      "text/plain": [
       "Canvas(toolbar=Toolbar(toolitems=[('Home', 'Reset original view', 'home', 'home'), ('Back', 'Back to previous …"
      ]
     },
     "metadata": {},
     "output_type": "display_data"
    },
    {
     "name": "stdout",
     "output_type": "stream",
     "text": [
      "angle between normal 0 and 1: nan degrees\n"
     ]
    },
    {
     "name": "stderr",
     "output_type": "stream",
     "text": [
      "/Users/vaclav/ownCloud/diploma_thesis/project/img_utils.py:76: RuntimeWarning: More than 20 figures have been opened. Figures created through the pyplot interface (`matplotlib.pyplot.figure`) are retained until explicitly closed and may consume too much memory. (To control this warning, see the rcParam `figure.max_open_warning`).\n",
      "  fig = plt.figure()\n"
     ]
    },
    {
     "data": {
      "application/vnd.jupyter.widget-view+json": {
       "model_id": "28b74beafb3d43bab26afaa459096a19",
       "version_major": 2,
       "version_minor": 0
      },
      "text/plain": [
       "Canvas(toolbar=Toolbar(toolitems=[('Home', 'Reset original view', 'home', 'home'), ('Back', 'Back to previous …"
      ]
     },
     "metadata": {},
     "output_type": "display_data"
    },
    {
     "name": "stdout",
     "output_type": "stream",
     "text": [
      "exact normal of the plane (x, y, y): [-0.22941573 -0.6882472  -0.6882472 ]\n",
      "normal component maxima (x, y, y): [-0.22940318 -0.6882366  -0.6882373 ]\n",
      "normal component minima (x, y, y): [-0.22942811 -0.6882593  -0.68825674]\n",
      "difference of normal component maxima from the exact values (x, y, y): [1.25510064e-05 1.06074116e-05 9.89215581e-06]\n",
      "difference of normal component minima from the exact values (x, y, y): [-1.23786363e-05 -1.21019581e-05 -9.53895838e-06]\n",
      "\n",
      "\n",
      "\n",
      "\n",
      "Testing synthetic depth map for plane coeffs (ax + by + cz + d = 0): [ 1  1  1 -1]\n",
      "\n",
      "WARNING: number of clusters unknown for depth_map_1_1_1_m1.npy, defaulting to 2 ...\n"
     ]
    },
    {
     "data": {
      "application/vnd.jupyter.widget-view+json": {
       "model_id": "574800f7ac0c45bda232db4b65a84c40",
       "version_major": 2,
       "version_minor": 0
      },
      "text/plain": [
       "Canvas(toolbar=Toolbar(toolitems=[('Home', 'Reset original view', 'home', 'home'), ('Back', 'Back to previous …"
      ]
     },
     "metadata": {},
     "output_type": "display_data"
    },
    {
     "name": "stdout",
     "output_type": "stream",
     "text": [
      "clustering normals starting\n",
      "clustering normals finished. It took 0.5971181392669678\n",
      "show loc: False\n"
     ]
    },
    {
     "data": {
      "application/vnd.jupyter.widget-view+json": {
       "model_id": "e09f87b753734b448d2ef22fccd5499f",
       "version_major": 2,
       "version_minor": 0
      },
      "text/plain": [
       "Canvas(toolbar=Toolbar(toolitems=[('Home', 'Reset original view', 'home', 'home'), ('Back', 'Back to previous …"
      ]
     },
     "metadata": {},
     "output_type": "display_data"
    },
    {
     "name": "stdout",
     "output_type": "stream",
     "text": [
      "angle between normal 0 and 1: nan degrees\n"
     ]
    },
    {
     "data": {
      "application/vnd.jupyter.widget-view+json": {
       "model_id": "2495ba30acdf4f86b7b5660736870345",
       "version_major": 2,
       "version_minor": 0
      },
      "text/plain": [
       "Canvas(toolbar=Toolbar(toolitems=[('Home', 'Reset original view', 'home', 'home'), ('Back', 'Back to previous …"
      ]
     },
     "metadata": {},
     "output_type": "display_data"
    },
    {
     "name": "stdout",
     "output_type": "stream",
     "text": [
      "exact normal of the plane (x, y, y): [-0.57735027 -0.57735027 -0.57735027]\n",
      "normal component maxima (x, y, y): [-0.5773406  -0.57734066 -0.5773391 ]\n",
      "normal component minima (x, y, y): [-0.57735926 -0.57736045 -0.5773609 ]\n",
      "difference of normal component maxima from the exact values (x, y, y): [9.66631487e-06 9.60671023e-06 1.11564310e-05]\n",
      "difference of normal component minima from the exact values (x, y, y): [-8.98993894e-06 -1.01820318e-05 -1.06588690e-05]\n",
      "\n",
      "\n",
      "\n",
      "\n",
      "Testing synthetic depth map for plane coeffs (ax + by + cz + d = 0): [ 2  1  2 -1]\n",
      "\n",
      "WARNING: number of clusters unknown for depth_map_2_1_2_m1.npy, defaulting to 2 ...\n"
     ]
    },
    {
     "data": {
      "application/vnd.jupyter.widget-view+json": {
       "model_id": "f6a28d32912f4c319226b22b19c15389",
       "version_major": 2,
       "version_minor": 0
      },
      "text/plain": [
       "Canvas(toolbar=Toolbar(toolitems=[('Home', 'Reset original view', 'home', 'home'), ('Back', 'Back to previous …"
      ]
     },
     "metadata": {},
     "output_type": "display_data"
    },
    {
     "name": "stdout",
     "output_type": "stream",
     "text": [
      "clustering normals starting\n",
      "clustering normals finished. It took 0.596369743347168\n",
      "show loc: False\n"
     ]
    },
    {
     "data": {
      "application/vnd.jupyter.widget-view+json": {
       "model_id": "87ce13bf0fa9435894badf5d93272428",
       "version_major": 2,
       "version_minor": 0
      },
      "text/plain": [
       "Canvas(toolbar=Toolbar(toolitems=[('Home', 'Reset original view', 'home', 'home'), ('Back', 'Back to previous …"
      ]
     },
     "metadata": {},
     "output_type": "display_data"
    },
    {
     "name": "stdout",
     "output_type": "stream",
     "text": [
      "angle between normal 0 and 1: nan degrees\n"
     ]
    },
    {
     "data": {
      "application/vnd.jupyter.widget-view+json": {
       "model_id": "4faca7a578f5451aa13a7d30908d39c3",
       "version_major": 2,
       "version_minor": 0
      },
      "text/plain": [
       "Canvas(toolbar=Toolbar(toolitems=[('Home', 'Reset original view', 'home', 'home'), ('Back', 'Back to previous …"
      ]
     },
     "metadata": {},
     "output_type": "display_data"
    },
    {
     "name": "stdout",
     "output_type": "stream",
     "text": [
      "exact normal of the plane (x, y, y): [-0.66666667 -0.33333333 -0.66666667]\n",
      "normal component maxima (x, y, y): [-0.66665864 -0.3333216  -0.6666559 ]\n",
      "normal component minima (x, y, y): [-0.66667426 -0.33334816 -0.66667575]\n",
      "difference of normal component maxima from the exact values (x, y, y): [8.02675883e-06 1.17321809e-05 1.07685725e-05]\n",
      "difference of normal component minima from the exact values (x, y, y): [-7.58965810e-06 -1.48216883e-05 -9.07977422e-06]\n",
      "\n",
      "\n",
      "\n",
      "\n",
      "Testing synthetic depth map for plane coeffs (ax + by + cz + d = 0): [ 3  1  3 -1]\n",
      "\n",
      "WARNING: number of clusters unknown for depth_map_3_1_3_m1.npy, defaulting to 2 ...\n"
     ]
    },
    {
     "data": {
      "application/vnd.jupyter.widget-view+json": {
       "model_id": "95fe036d378b4ae094b7c8523b35a409",
       "version_major": 2,
       "version_minor": 0
      },
      "text/plain": [
       "Canvas(toolbar=Toolbar(toolitems=[('Home', 'Reset original view', 'home', 'home'), ('Back', 'Back to previous …"
      ]
     },
     "metadata": {},
     "output_type": "display_data"
    },
    {
     "name": "stdout",
     "output_type": "stream",
     "text": [
      "clustering normals starting\n",
      "clustering normals finished. It took 0.6181809902191162\n",
      "show loc: False\n"
     ]
    },
    {
     "data": {
      "application/vnd.jupyter.widget-view+json": {
       "model_id": "05049c40e0cf40fe867f3397a80bd709",
       "version_major": 2,
       "version_minor": 0
      },
      "text/plain": [
       "Canvas(toolbar=Toolbar(toolitems=[('Home', 'Reset original view', 'home', 'home'), ('Back', 'Back to previous …"
      ]
     },
     "metadata": {},
     "output_type": "display_data"
    },
    {
     "name": "stdout",
     "output_type": "stream",
     "text": [
      "angle between normal 0 and 1: nan degrees\n"
     ]
    },
    {
     "data": {
      "application/vnd.jupyter.widget-view+json": {
       "model_id": "385e47efccd44da1a6fc4e234e84f1fc",
       "version_major": 2,
       "version_minor": 0
      },
      "text/plain": [
       "Canvas(toolbar=Toolbar(toolitems=[('Home', 'Reset original view', 'home', 'home'), ('Back', 'Back to previous …"
      ]
     },
     "metadata": {},
     "output_type": "display_data"
    },
    {
     "name": "stdout",
     "output_type": "stream",
     "text": [
      "exact normal of the plane (x, y, y): [-0.6882472  -0.22941573 -0.6882472 ]\n",
      "normal component maxima (x, y, y): [-0.6882391  -0.22940344 -0.6882386 ]\n",
      "normal component minima (x, y, y): [-0.6882557  -0.22942737 -0.6882557 ]\n",
      "difference of normal component maxima from the exact values (x, y, y): [8.10401647e-06 1.22976866e-05 8.58085363e-06]\n",
      "difference of normal component minima from the exact values (x, y, y): [-8.52567942e-06 -1.16335782e-05 -8.52567942e-06]\n"
     ]
    }
   ],
   "source": [
    "Config.config_map[Config.show_normals_in_img] = False\n",
    "test_depth_to_normals(old_implementation=False, impl=\"svd\")"
   ]
  },
  {
   "cell_type": "code",
   "execution_count": 4,
   "id": "authentic-cinema",
   "metadata": {
    "scrolled": false
   },
   "outputs": [
    {
     "name": "stdout",
     "output_type": "stream",
     "text": [
      "\n",
      "\n",
      "\n",
      "\n",
      "Testing synthetic depth map for plane coeffs (ax + by + cz + d = 0): [ 0  0  1 -1]\n",
      "Creating dir (if not exists already): work/tests/\n",
      "WARNING: number of clusters unknown for depth_map_0_0_1_m1.npy, defaulting to 2 ...\n"
     ]
    },
    {
     "data": {
      "application/vnd.jupyter.widget-view+json": {
       "model_id": "068e42a9320343c3b49ca8209a6784ef",
       "version_major": 2,
       "version_minor": 0
      },
      "text/plain": [
       "Canvas(toolbar=Toolbar(toolitems=[('Home', 'Reset original view', 'home', 'home'), ('Back', 'Back to previous …"
      ]
     },
     "metadata": {},
     "output_type": "display_data"
    },
    {
     "name": "stdout",
     "output_type": "stream",
     "text": [
      "clustering normals starting\n",
      "clustering normals finished. It took 0.6741111278533936\n",
      "show loc: False\n"
     ]
    },
    {
     "data": {
      "application/vnd.jupyter.widget-view+json": {
       "model_id": "5547fd6802e04992b80deb9d5519bdec",
       "version_major": 2,
       "version_minor": 0
      },
      "text/plain": [
       "Canvas(toolbar=Toolbar(toolitems=[('Home', 'Reset original view', 'home', 'home'), ('Back', 'Back to previous …"
      ]
     },
     "metadata": {},
     "output_type": "display_data"
    },
    {
     "name": "stdout",
     "output_type": "stream",
     "text": [
      "angle between normal 0 and 1: 6.347489029197372 degrees\n"
     ]
    },
    {
     "data": {
      "application/vnd.jupyter.widget-view+json": {
       "model_id": "1b13ffa361044f3fbae8edc085aa7107",
       "version_major": 2,
       "version_minor": 0
      },
      "text/plain": [
       "Canvas(toolbar=Toolbar(toolitems=[('Home', 'Reset original view', 'home', 'home'), ('Back', 'Back to previous …"
      ]
     },
     "metadata": {},
     "output_type": "display_data"
    },
    {
     "name": "stdout",
     "output_type": "stream",
     "text": [
      "exact normal of the plane (x, y, y): [ 0.  0. -1.]\n",
      "normal component maxima (x, y, y): [ 0.08336986  0.15055109 -0.98508062]\n",
      "normal component minima (x, y, y): [-0.0826381  -0.14951695 -1.        ]\n",
      "difference of normal component maxima from the exact values (x, y, y): [0.08336986 0.15055109 0.01491938]\n",
      "difference of normal component minima from the exact values (x, y, y): [-0.0826381  -0.14951695  0.        ]\n",
      "\n",
      "\n",
      "\n",
      "\n",
      "Testing synthetic depth map for plane coeffs (ax + by + cz + d = 0): [   0    0    1 -100]\n",
      "Creating dir (if not exists already): work/tests/\n",
      "WARNING: number of clusters unknown for depth_map_0_0_1_m100.npy, defaulting to 2 ...\n"
     ]
    },
    {
     "data": {
      "application/vnd.jupyter.widget-view+json": {
       "model_id": "efbfda7a554540529da89a4ac5ea4c5f",
       "version_major": 2,
       "version_minor": 0
      },
      "text/plain": [
       "Canvas(toolbar=Toolbar(toolitems=[('Home', 'Reset original view', 'home', 'home'), ('Back', 'Back to previous …"
      ]
     },
     "metadata": {},
     "output_type": "display_data"
    },
    {
     "name": "stdout",
     "output_type": "stream",
     "text": [
      "clustering normals starting\n",
      "clustering normals finished. It took 0.6932752132415771\n",
      "show loc: False\n"
     ]
    },
    {
     "data": {
      "application/vnd.jupyter.widget-view+json": {
       "model_id": "55859bcc9787480ea92818c54d406847",
       "version_major": 2,
       "version_minor": 0
      },
      "text/plain": [
       "Canvas(toolbar=Toolbar(toolitems=[('Home', 'Reset original view', 'home', 'home'), ('Back', 'Back to previous …"
      ]
     },
     "metadata": {},
     "output_type": "display_data"
    },
    {
     "name": "stdout",
     "output_type": "stream",
     "text": [
      "angle between normal 0 and 1: 6.347489029197372 degrees\n"
     ]
    },
    {
     "data": {
      "application/vnd.jupyter.widget-view+json": {
       "model_id": "416913069fe14d0c91ab5fd75527107a",
       "version_major": 2,
       "version_minor": 0
      },
      "text/plain": [
       "Canvas(toolbar=Toolbar(toolitems=[('Home', 'Reset original view', 'home', 'home'), ('Back', 'Back to previous …"
      ]
     },
     "metadata": {},
     "output_type": "display_data"
    },
    {
     "name": "stdout",
     "output_type": "stream",
     "text": [
      "exact normal of the plane (x, y, y): [ 0.  0. -1.]\n",
      "normal component maxima (x, y, y): [ 0.08337276  0.15054795 -0.98508086]\n",
      "normal component minima (x, y, y): [-0.08264146 -0.14951678 -1.        ]\n",
      "difference of normal component maxima from the exact values (x, y, y): [0.08337276 0.15054795 0.01491914]\n",
      "difference of normal component minima from the exact values (x, y, y): [-0.08264146 -0.14951678  0.        ]\n",
      "\n",
      "\n",
      "\n",
      "\n",
      "Testing synthetic depth map for plane coeffs (ax + by + cz + d = 0): [ 1  0  1 -1]\n",
      "Creating dir (if not exists already): work/tests/\n",
      "WARNING: number of clusters unknown for depth_map_1_0_1_m1.npy, defaulting to 2 ...\n"
     ]
    },
    {
     "data": {
      "application/vnd.jupyter.widget-view+json": {
       "model_id": "c5e1b5c873d5403fa43853df05d78d28",
       "version_major": 2,
       "version_minor": 0
      },
      "text/plain": [
       "Canvas(toolbar=Toolbar(toolitems=[('Home', 'Reset original view', 'home', 'home'), ('Back', 'Back to previous …"
      ]
     },
     "metadata": {},
     "output_type": "display_data"
    },
    {
     "name": "stdout",
     "output_type": "stream",
     "text": [
      "clustering normals starting\n",
      "clustering normals finished. It took 0.19429564476013184\n",
      "show loc: False\n"
     ]
    },
    {
     "data": {
      "application/vnd.jupyter.widget-view+json": {
       "model_id": "ca2816038dfd45f393776ca18b6a2267",
       "version_major": 2,
       "version_minor": 0
      },
      "text/plain": [
       "Canvas(toolbar=Toolbar(toolitems=[('Home', 'Reset original view', 'home', 'home'), ('Back', 'Back to previous …"
      ]
     },
     "metadata": {},
     "output_type": "display_data"
    },
    {
     "name": "stdout",
     "output_type": "stream",
     "text": [
      "angle between normal 0 and 1: 24.264735384995955 degrees\n"
     ]
    },
    {
     "data": {
      "application/vnd.jupyter.widget-view+json": {
       "model_id": "f772b967880f4e74ad27959c738c6a46",
       "version_major": 2,
       "version_minor": 0
      },
      "text/plain": [
       "Canvas(toolbar=Toolbar(toolitems=[('Home', 'Reset original view', 'home', 'home'), ('Back', 'Back to previous …"
      ]
     },
     "metadata": {},
     "output_type": "display_data"
    },
    {
     "name": "stdout",
     "output_type": "stream",
     "text": [
      "exact normal of the plane (x, y, y): [-0.70710678  0.         -0.70710678]\n",
      "normal component maxima (x, y, y): [-0.66217027  0.13797426 -0.70746447]\n",
      "normal component minima (x, y, y): [-0.70674891 -0.13724976 -0.74181512]\n",
      "difference of normal component maxima from the exact values (x, y, y): [ 0.04493651  0.13797426 -0.00035769]\n",
      "difference of normal component minima from the exact values (x, y, y): [ 0.00035787 -0.13724976 -0.03470834]\n",
      "\n",
      "\n",
      "\n",
      "\n",
      "Testing synthetic depth map for plane coeffs (ax + by + cz + d = 0): [      1       0       1 -100000]\n",
      "Creating dir (if not exists already): work/tests/\n",
      "WARNING: number of clusters unknown for depth_map_1_0_1_m100000.npy, defaulting to 2 ...\n"
     ]
    },
    {
     "data": {
      "application/vnd.jupyter.widget-view+json": {
       "model_id": "46d6d4965bcc4eebb7721c41105f9085",
       "version_major": 2,
       "version_minor": 0
      },
      "text/plain": [
       "Canvas(toolbar=Toolbar(toolitems=[('Home', 'Reset original view', 'home', 'home'), ('Back', 'Back to previous …"
      ]
     },
     "metadata": {},
     "output_type": "display_data"
    },
    {
     "name": "stdout",
     "output_type": "stream",
     "text": [
      "clustering normals starting\n",
      "clustering normals finished. It took 0.19065308570861816\n",
      "show loc: False\n"
     ]
    },
    {
     "data": {
      "application/vnd.jupyter.widget-view+json": {
       "model_id": "a939c65052d544a2bcd5dc291532bcb4",
       "version_major": 2,
       "version_minor": 0
      },
      "text/plain": [
       "Canvas(toolbar=Toolbar(toolitems=[('Home', 'Reset original view', 'home', 'home'), ('Back', 'Back to previous …"
      ]
     },
     "metadata": {},
     "output_type": "display_data"
    },
    {
     "name": "stdout",
     "output_type": "stream",
     "text": [
      "angle between normal 0 and 1: 24.264735384995955 degrees\n"
     ]
    },
    {
     "data": {
      "application/vnd.jupyter.widget-view+json": {
       "model_id": "a183953328bc4fc5a1834c23efe7ea69",
       "version_major": 2,
       "version_minor": 0
      },
      "text/plain": [
       "Canvas(toolbar=Toolbar(toolitems=[('Home', 'Reset original view', 'home', 'home'), ('Back', 'Back to previous …"
      ]
     },
     "metadata": {},
     "output_type": "display_data"
    },
    {
     "name": "stdout",
     "output_type": "stream",
     "text": [
      "exact normal of the plane (x, y, y): [-0.70710678  0.         -0.70710678]\n",
      "normal component maxima (x, y, y): [-0.66217036  0.13797464 -0.70746365]\n",
      "normal component minima (x, y, y): [-0.70674974 -0.1372502  -0.74181524]\n",
      "difference of normal component maxima from the exact values (x, y, y): [ 0.04493643  0.13797464 -0.00035686]\n",
      "difference of normal component minima from the exact values (x, y, y): [ 0.00035704 -0.1372502  -0.03470846]\n",
      "\n",
      "\n",
      "\n",
      "\n",
      "Testing synthetic depth map for plane coeffs (ax + by + cz + d = 0): [ 0  1  1 -1]\n",
      "Creating dir (if not exists already): work/tests/\n",
      "WARNING: number of clusters unknown for depth_map_0_1_1_m1.npy, defaulting to 2 ...\n"
     ]
    },
    {
     "data": {
      "application/vnd.jupyter.widget-view+json": {
       "model_id": "5874d422a85c4e86891b3ea47c73a1a8",
       "version_major": 2,
       "version_minor": 0
      },
      "text/plain": [
       "Canvas(toolbar=Toolbar(toolitems=[('Home', 'Reset original view', 'home', 'home'), ('Back', 'Back to previous …"
      ]
     },
     "metadata": {},
     "output_type": "display_data"
    },
    {
     "name": "stdout",
     "output_type": "stream",
     "text": [
      "clustering normals starting\n",
      "clustering normals finished. It took 0.12574100494384766\n",
      "show loc: False\n"
     ]
    },
    {
     "data": {
      "application/vnd.jupyter.widget-view+json": {
       "model_id": "9ec31293b933498fa7ac9690f3e4d5f0",
       "version_major": 2,
       "version_minor": 0
      },
      "text/plain": [
       "Canvas(toolbar=Toolbar(toolitems=[('Home', 'Reset original view', 'home', 'home'), ('Back', 'Back to previous …"
      ]
     },
     "metadata": {},
     "output_type": "display_data"
    },
    {
     "name": "stdout",
     "output_type": "stream",
     "text": [
      "angle between normal 0 and 1: 29.728101249251605 degrees\n"
     ]
    },
    {
     "data": {
      "application/vnd.jupyter.widget-view+json": {
       "model_id": "c7d157e127e74d089011a6a0a53e6533",
       "version_major": 2,
       "version_minor": 0
      },
      "text/plain": [
       "Canvas(toolbar=Toolbar(toolitems=[('Home', 'Reset original view', 'home', 'home'), ('Back', 'Back to previous …"
      ]
     },
     "metadata": {},
     "output_type": "display_data"
    },
    {
     "name": "stdout",
     "output_type": "stream",
     "text": [
      "exact normal of the plane (x, y, y): [ 0.         -0.70710678 -0.70710678]\n",
      "normal component maxima (x, y, y): [ 0.09188542 -0.64556711 -0.70746447]\n",
      "normal component minima (x, y, y): [-0.09121978 -0.70674891 -0.76370355]\n",
      "difference of normal component maxima from the exact values (x, y, y): [ 0.09188542  0.06153968 -0.00035769]\n",
      "difference of normal component minima from the exact values (x, y, y): [-0.09121978  0.00035787 -0.05659677]\n",
      "\n",
      "\n",
      "\n",
      "\n",
      "Testing synthetic depth map for plane coeffs (ax + by + cz + d = 0): [ 1  2  2 -1]\n",
      "Creating dir (if not exists already): work/tests/\n",
      "WARNING: number of clusters unknown for depth_map_1_2_2_m1.npy, defaulting to 2 ...\n"
     ]
    },
    {
     "data": {
      "application/vnd.jupyter.widget-view+json": {
       "model_id": "f6a46bafd96e4b9880d417eafc082135",
       "version_major": 2,
       "version_minor": 0
      },
      "text/plain": [
       "Canvas(toolbar=Toolbar(toolitems=[('Home', 'Reset original view', 'home', 'home'), ('Back', 'Back to previous …"
      ]
     },
     "metadata": {},
     "output_type": "display_data"
    },
    {
     "name": "stdout",
     "output_type": "stream",
     "text": [
      "clustering normals starting\n",
      "clustering normals finished. It took 0.449908971786499\n",
      "show loc: False\n"
     ]
    },
    {
     "data": {
      "application/vnd.jupyter.widget-view+json": {
       "model_id": "bc8b70135485460289f35ab71b20ba9c",
       "version_major": 2,
       "version_minor": 0
      },
      "text/plain": [
       "Canvas(toolbar=Toolbar(toolitems=[('Home', 'Reset original view', 'home', 'home'), ('Back', 'Back to previous …"
      ]
     },
     "metadata": {},
     "output_type": "display_data"
    },
    {
     "name": "stdout",
     "output_type": "stream",
     "text": [
      "angle between normal 0 and 1: 4.5764150009975415 degrees\n"
     ]
    },
    {
     "data": {
      "application/vnd.jupyter.widget-view+json": {
       "model_id": "8470ea953e45479e939ec4e2e3d2f792",
       "version_major": 2,
       "version_minor": 0
      },
      "text/plain": [
       "Canvas(toolbar=Toolbar(toolitems=[('Home', 'Reset original view', 'home', 'home'), ('Back', 'Back to previous …"
      ]
     },
     "metadata": {},
     "output_type": "display_data"
    },
    {
     "name": "stdout",
     "output_type": "stream",
     "text": [
      "exact normal of the plane (x, y, y): [-0.33333333 -0.66666667 -0.66666667]\n",
      "normal component maxima (x, y, y): [-0.2467781  -0.57680505 -0.6670384 ]\n",
      "normal component minima (x, y, y): [-0.43323112 -0.66636969 -0.72197005]\n",
      "difference of normal component maxima from the exact values (x, y, y): [ 0.08655524  0.08986162 -0.00037173]\n",
      "difference of normal component minima from the exact values (x, y, y): [-0.09989779  0.00029697 -0.05530338]\n",
      "\n",
      "\n",
      "\n",
      "\n",
      "Testing synthetic depth map for plane coeffs (ax + by + cz + d = 0): [ 1  3  3 -1]\n",
      "Creating dir (if not exists already): work/tests/\n",
      "WARNING: number of clusters unknown for depth_map_1_3_3_m1.npy, defaulting to 2 ...\n"
     ]
    },
    {
     "data": {
      "application/vnd.jupyter.widget-view+json": {
       "model_id": "3f4ea74e2e1247eeafd6e1b2c6413209",
       "version_major": 2,
       "version_minor": 0
      },
      "text/plain": [
       "Canvas(toolbar=Toolbar(toolitems=[('Home', 'Reset original view', 'home', 'home'), ('Back', 'Back to previous …"
      ]
     },
     "metadata": {},
     "output_type": "display_data"
    },
    {
     "name": "stdout",
     "output_type": "stream",
     "text": [
      "clustering normals starting\n",
      "clustering normals finished. It took 0.16330981254577637\n",
      "show loc: False\n"
     ]
    },
    {
     "data": {
      "application/vnd.jupyter.widget-view+json": {
       "model_id": "c499ae90c0e14afda7c7d39c00d36edb",
       "version_major": 2,
       "version_minor": 0
      },
      "text/plain": [
       "Canvas(toolbar=Toolbar(toolitems=[('Home', 'Reset original view', 'home', 'home'), ('Back', 'Back to previous …"
      ]
     },
     "metadata": {},
     "output_type": "display_data"
    },
    {
     "name": "stdout",
     "output_type": "stream",
     "text": [
      "angle between normal 0 and 1: 33.085163131974966 degrees\n"
     ]
    },
    {
     "data": {
      "application/vnd.jupyter.widget-view+json": {
       "model_id": "675a5159cca54285846c5f76e5a699b2",
       "version_major": 2,
       "version_minor": 0
      },
      "text/plain": [
       "Canvas(toolbar=Toolbar(toolitems=[('Home', 'Reset original view', 'home', 'home'), ('Back', 'Back to previous …"
      ]
     },
     "metadata": {},
     "output_type": "display_data"
    },
    {
     "name": "stdout",
     "output_type": "stream",
     "text": [
      "exact normal of the plane (x, y, y): [-0.22941573 -0.6882472  -0.6882472 ]\n",
      "normal component maxima (x, y, y): [-0.15279668 -0.60746089 -0.68861128]\n",
      "normal component minima (x, y, y): [-0.33360034 -0.68792002 -0.74078161]\n",
      "difference of normal component maxima from the exact values (x, y, y): [ 0.07661906  0.08078631 -0.00036408]\n",
      "difference of normal component minima from the exact values (x, y, y): [-0.1041846   0.00032718 -0.05253441]\n",
      "\n",
      "\n",
      "\n",
      "\n",
      "Testing synthetic depth map for plane coeffs (ax + by + cz + d = 0): [ 1  1  1 -1]\n",
      "Creating dir (if not exists already): work/tests/\n",
      "WARNING: number of clusters unknown for depth_map_1_1_1_m1.npy, defaulting to 2 ...\n"
     ]
    },
    {
     "data": {
      "application/vnd.jupyter.widget-view+json": {
       "model_id": "59df399d2da14366ab5652802f8958cc",
       "version_major": 2,
       "version_minor": 0
      },
      "text/plain": [
       "Canvas(toolbar=Toolbar(toolitems=[('Home', 'Reset original view', 'home', 'home'), ('Back', 'Back to previous …"
      ]
     },
     "metadata": {},
     "output_type": "display_data"
    },
    {
     "name": "stdout",
     "output_type": "stream",
     "text": [
      "clustering normals starting\n",
      "clustering normals finished. It took 0.12819314002990723\n",
      "show loc: False\n"
     ]
    },
    {
     "data": {
      "application/vnd.jupyter.widget-view+json": {
       "model_id": "312b979cfc354582868f5304b1f23302",
       "version_major": 2,
       "version_minor": 0
      },
      "text/plain": [
       "Canvas(toolbar=Toolbar(toolitems=[('Home', 'Reset original view', 'home', 'home'), ('Back', 'Back to previous …"
      ]
     },
     "metadata": {},
     "output_type": "display_data"
    },
    {
     "name": "stdout",
     "output_type": "stream",
     "text": [
      "angle between normal 0 and 1: 29.131733527155696 degrees\n"
     ]
    },
    {
     "data": {
      "application/vnd.jupyter.widget-view+json": {
       "model_id": "1e80c8c1c4fc4d4dafaf0d6acff9cdd4",
       "version_major": 2,
       "version_minor": 0
      },
      "text/plain": [
       "Canvas(toolbar=Toolbar(toolitems=[('Home', 'Reset original view', 'home', 'home'), ('Back', 'Back to previous …"
      ]
     },
     "metadata": {},
     "output_type": "display_data"
    },
    {
     "name": "stdout",
     "output_type": "stream",
     "text": [
      "exact normal of the plane (x, y, y): [-0.57735027 -0.57735027 -0.57735027]\n",
      "normal component maxima (x, y, y): [-0.48931815 -0.4791658  -0.57772734]\n",
      "normal component minima (x, y, y): [-0.64533339 -0.61294433 -0.65984696]\n",
      "difference of normal component maxima from the exact values (x, y, y): [ 0.08803212  0.09818447 -0.00037707]\n",
      "difference of normal component minima from the exact values (x, y, y): [-0.06798312 -0.03559406 -0.08249669]\n",
      "\n",
      "\n",
      "\n",
      "\n",
      "Testing synthetic depth map for plane coeffs (ax + by + cz + d = 0): [ 2  1  2 -1]\n",
      "Creating dir (if not exists already): work/tests/\n",
      "WARNING: number of clusters unknown for depth_map_2_1_2_m1.npy, defaulting to 2 ...\n"
     ]
    },
    {
     "data": {
      "application/vnd.jupyter.widget-view+json": {
       "model_id": "1ae01c2eeef142698aa21e305faebf8d",
       "version_major": 2,
       "version_minor": 0
      },
      "text/plain": [
       "Canvas(toolbar=Toolbar(toolitems=[('Home', 'Reset original view', 'home', 'home'), ('Back', 'Back to previous …"
      ]
     },
     "metadata": {},
     "output_type": "display_data"
    },
    {
     "name": "stdout",
     "output_type": "stream",
     "text": [
      "clustering normals starting\n",
      "clustering normals finished. It took 0.670198917388916\n",
      "show loc: False\n"
     ]
    },
    {
     "data": {
      "application/vnd.jupyter.widget-view+json": {
       "model_id": "f50dc5c423aa4d49982364b4cc4c824d",
       "version_major": 2,
       "version_minor": 0
      },
      "text/plain": [
       "Canvas(toolbar=Toolbar(toolitems=[('Home', 'Reset original view', 'home', 'home'), ('Back', 'Back to previous …"
      ]
     },
     "metadata": {},
     "output_type": "display_data"
    },
    {
     "name": "stdout",
     "output_type": "stream",
     "text": [
      "angle between normal 0 and 1: 22.3109614804611 degrees\n"
     ]
    },
    {
     "data": {
      "application/vnd.jupyter.widget-view+json": {
       "model_id": "2d7ef9846bb846a7bdcfe2330c03d628",
       "version_major": 2,
       "version_minor": 0
      },
      "text/plain": [
       "Canvas(toolbar=Toolbar(toolitems=[('Home', 'Reset original view', 'home', 'home'), ('Back', 'Back to previous …"
      ]
     },
     "metadata": {},
     "output_type": "display_data"
    },
    {
     "name": "stdout",
     "output_type": "stream",
     "text": [
      "exact normal of the plane (x, y, y): [-0.66666667 -0.33333333 -0.66666667]\n",
      "normal component maxima (x, y, y): [-0.58122774 -0.21198905 -0.6670384 ]\n",
      "normal component minima (x, y, y): [-0.68870447 -0.42771235 -0.7165818 ]\n",
      "difference of normal component maxima from the exact values (x, y, y): [ 0.08543892  0.12134428 -0.00037173]\n",
      "difference of normal component minima from the exact values (x, y, y): [-0.02203781 -0.09437902 -0.04991513]\n",
      "\n",
      "\n",
      "\n",
      "\n",
      "Testing synthetic depth map for plane coeffs (ax + by + cz + d = 0): [ 3  1  3 -1]\n",
      "Creating dir (if not exists already): work/tests/\n",
      "WARNING: number of clusters unknown for depth_map_3_1_3_m1.npy, defaulting to 2 ...\n"
     ]
    },
    {
     "data": {
      "application/vnd.jupyter.widget-view+json": {
       "model_id": "b3bfc60d94644130a72c40331289b746",
       "version_major": 2,
       "version_minor": 0
      },
      "text/plain": [
       "Canvas(toolbar=Toolbar(toolitems=[('Home', 'Reset original view', 'home', 'home'), ('Back', 'Back to previous …"
      ]
     },
     "metadata": {},
     "output_type": "display_data"
    },
    {
     "name": "stdout",
     "output_type": "stream",
     "text": [
      "clustering normals starting\n",
      "clustering normals finished. It took 0.32593417167663574\n",
      "show loc: False\n"
     ]
    },
    {
     "data": {
      "application/vnd.jupyter.widget-view+json": {
       "model_id": "1666d0bd82924d6a9af72044f231b3ee",
       "version_major": 2,
       "version_minor": 0
      },
      "text/plain": [
       "Canvas(toolbar=Toolbar(toolitems=[('Home', 'Reset original view', 'home', 'home'), ('Back', 'Back to previous …"
      ]
     },
     "metadata": {},
     "output_type": "display_data"
    },
    {
     "name": "stdout",
     "output_type": "stream",
     "text": [
      "angle between normal 0 and 1: 23.469054205182612 degrees\n"
     ]
    },
    {
     "data": {
      "application/vnd.jupyter.widget-view+json": {
       "model_id": "92b5fa12732543f7a88718b90d41dbc6",
       "version_major": 2,
       "version_minor": 0
      },
      "text/plain": [
       "Canvas(toolbar=Toolbar(toolitems=[('Home', 'Reset original view', 'home', 'home'), ('Back', 'Back to previous …"
      ]
     },
     "metadata": {},
     "output_type": "display_data"
    },
    {
     "name": "stdout",
     "output_type": "stream",
     "text": [
      "exact normal of the plane (x, y, y): [-0.6882472  -0.22941573 -0.6882472 ]\n",
      "normal component maxima (x, y, y): [-0.61175031 -0.10310398 -0.68861128]\n",
      "normal component minima (x, y, y): [-0.69039718 -0.3431971  -0.73034478]\n",
      "difference of normal component maxima from the exact values (x, y, y): [ 0.07649689  0.12631175 -0.00036408]\n",
      "difference of normal component minima from the exact values (x, y, y): [-0.00214997 -0.11378136 -0.04209758]\n"
     ]
    }
   ],
   "source": [
    "Config.config_map[Config.show_normals_in_img] = False\n",
    "test_depth_to_normals(old_implementation=False, impl=\"diff\")"
   ]
  },
  {
   "cell_type": "code",
   "execution_count": 5,
   "id": "disabled-picnic",
   "metadata": {
    "scrolled": false
   },
   "outputs": [
    {
     "name": "stdout",
     "output_type": "stream",
     "text": [
      "\n",
      "\n",
      "\n",
      "\n",
      "Testing synthetic depth map for plane coeffs (ax + by + cz + d = 0): [ 0  0  1 -1]\n",
      "Creating dir (if not exists already): work/tests/\n",
      "WARNING: number of clusters unknown for depth_map_0_0_1_m1.npy, defaulting to 2 ...\n"
     ]
    },
    {
     "data": {
      "application/vnd.jupyter.widget-view+json": {
       "model_id": "63eb765a0b93447fa6de3970c227b220",
       "version_major": 2,
       "version_minor": 0
      },
      "text/plain": [
       "Canvas(toolbar=Toolbar(toolitems=[('Home', 'Reset original view', 'home', 'home'), ('Back', 'Back to previous …"
      ]
     },
     "metadata": {},
     "output_type": "display_data"
    },
    {
     "name": "stdout",
     "output_type": "stream",
     "text": [
      "clustering normals starting\n",
      "clustering normals finished. It took 0.2844579219818115\n",
      "show loc: False\n"
     ]
    },
    {
     "data": {
      "application/vnd.jupyter.widget-view+json": {
       "model_id": "3e7dc04a18dc46b2ad346f79e3601bcc",
       "version_major": 2,
       "version_minor": 0
      },
      "text/plain": [
       "Canvas(toolbar=Toolbar(toolitems=[('Home', 'Reset original view', 'home', 'home'), ('Back', 'Back to previous …"
      ]
     },
     "metadata": {},
     "output_type": "display_data"
    },
    {
     "name": "stdout",
     "output_type": "stream",
     "text": [
      "angle between normal 0 and 1: 19.714772425993402 degrees\n"
     ]
    },
    {
     "data": {
      "application/vnd.jupyter.widget-view+json": {
       "model_id": "76d1328ed8514132a3bf64aa8527788e",
       "version_major": 2,
       "version_minor": 0
      },
      "text/plain": [
       "Canvas(toolbar=Toolbar(toolitems=[('Home', 'Reset original view', 'home', 'home'), ('Back', 'Back to previous …"
      ]
     },
     "metadata": {},
     "output_type": "display_data"
    },
    {
     "name": "stdout",
     "output_type": "stream",
     "text": [
      "exact normal of the plane (x, y, y): [ 0.  0. -1.]\n",
      "normal component maxima (x, y, y): [ 0.19586963  0.30977379 -0.94126495]\n",
      "normal component minima (x, y, y): [-0.19709429 -0.31058769 -1.        ]\n",
      "difference of normal component maxima from the exact values (x, y, y): [0.19586963 0.30977379 0.05873505]\n",
      "difference of normal component minima from the exact values (x, y, y): [-0.19709429 -0.31058769  0.        ]\n",
      "\n",
      "\n",
      "\n",
      "\n",
      "Testing synthetic depth map for plane coeffs (ax + by + cz + d = 0): [   0    0    1 -100]\n",
      "Creating dir (if not exists already): work/tests/\n",
      "WARNING: number of clusters unknown for depth_map_0_0_1_m100.npy, defaulting to 2 ...\n"
     ]
    },
    {
     "data": {
      "application/vnd.jupyter.widget-view+json": {
       "model_id": "02cc5155faa140f8989a95d32e3380fd",
       "version_major": 2,
       "version_minor": 0
      },
      "text/plain": [
       "Canvas(toolbar=Toolbar(toolitems=[('Home', 'Reset original view', 'home', 'home'), ('Back', 'Back to previous …"
      ]
     },
     "metadata": {},
     "output_type": "display_data"
    },
    {
     "name": "stdout",
     "output_type": "stream",
     "text": [
      "clustering normals starting\n",
      "clustering normals finished. It took 0.3279452323913574\n",
      "show loc: False\n"
     ]
    },
    {
     "data": {
      "application/vnd.jupyter.widget-view+json": {
       "model_id": "e1fffb3f92a34682a0372a992d943294",
       "version_major": 2,
       "version_minor": 0
      },
      "text/plain": [
       "Canvas(toolbar=Toolbar(toolitems=[('Home', 'Reset original view', 'home', 'home'), ('Back', 'Back to previous …"
      ]
     },
     "metadata": {},
     "output_type": "display_data"
    },
    {
     "name": "stdout",
     "output_type": "stream",
     "text": [
      "angle between normal 0 and 1: 171.02941213798002 degrees\n"
     ]
    },
    {
     "data": {
      "application/vnd.jupyter.widget-view+json": {
       "model_id": "8ab2e88db0a0409f94eb6769e19eea83",
       "version_major": 2,
       "version_minor": 0
      },
      "text/plain": [
       "Canvas(toolbar=Toolbar(toolitems=[('Home', 'Reset original view', 'home', 'home'), ('Back', 'Back to previous …"
      ]
     },
     "metadata": {},
     "output_type": "display_data"
    },
    {
     "name": "stdout",
     "output_type": "stream",
     "text": [
      "exact normal of the plane (x, y, y): [ 0.  0. -1.]\n",
      "normal component maxima (x, y, y): [ 0.99874909  0.99952928 -0.02786446]\n",
      "normal component minima (x, y, y): [-0.99876516 -0.999532   -1.        ]\n",
      "difference of normal component maxima from the exact values (x, y, y): [0.99874909 0.99952928 0.97213554]\n",
      "difference of normal component minima from the exact values (x, y, y): [-0.99876516 -0.999532    0.        ]\n",
      "\n",
      "\n",
      "\n",
      "\n",
      "Testing synthetic depth map for plane coeffs (ax + by + cz + d = 0): [ 1  0  1 -1]\n",
      "Creating dir (if not exists already): work/tests/\n",
      "WARNING: number of clusters unknown for depth_map_1_0_1_m1.npy, defaulting to 2 ...\n"
     ]
    },
    {
     "data": {
      "application/vnd.jupyter.widget-view+json": {
       "model_id": "a166ac8018dd40db83e6ec42bd0ef327",
       "version_major": 2,
       "version_minor": 0
      },
      "text/plain": [
       "Canvas(toolbar=Toolbar(toolitems=[('Home', 'Reset original view', 'home', 'home'), ('Back', 'Back to previous …"
      ]
     },
     "metadata": {},
     "output_type": "display_data"
    },
    {
     "name": "stdout",
     "output_type": "stream",
     "text": [
      "clustering normals starting\n",
      "clustering normals finished. It took 0.6295678615570068\n",
      "show loc: False\n"
     ]
    },
    {
     "data": {
      "application/vnd.jupyter.widget-view+json": {
       "model_id": "523af357d1674bfcaab48b0f829f7486",
       "version_major": 2,
       "version_minor": 0
      },
      "text/plain": [
       "Canvas(toolbar=Toolbar(toolitems=[('Home', 'Reset original view', 'home', 'home'), ('Back', 'Back to previous …"
      ]
     },
     "metadata": {},
     "output_type": "display_data"
    },
    {
     "name": "stdout",
     "output_type": "stream",
     "text": [
      "angle between normal 0 and 1: 26.188893589289634 degrees\n"
     ]
    },
    {
     "data": {
      "application/vnd.jupyter.widget-view+json": {
       "model_id": "e32318cf707f45939541ec7f64f60330",
       "version_major": 2,
       "version_minor": 0
      },
      "text/plain": [
       "Canvas(toolbar=Toolbar(toolitems=[('Home', 'Reset original view', 'home', 'home'), ('Back', 'Back to previous …"
      ]
     },
     "metadata": {},
     "output_type": "display_data"
    },
    {
     "name": "stdout",
     "output_type": "stream",
     "text": [
      "exact normal of the plane (x, y, y): [-0.70710678  0.         -0.70710678]\n",
      "normal component maxima (x, y, y): [-0.2138884   0.25434583 -0.43484522]\n",
      "normal component minima (x, y, y): [-0.87643444 -0.25494345 -0.9768581 ]\n",
      "difference of normal component maxima from the exact values (x, y, y): [0.49321838 0.25434583 0.27226156]\n",
      "difference of normal component minima from the exact values (x, y, y): [-0.16932766 -0.25494345 -0.26975132]\n",
      "\n",
      "\n",
      "\n",
      "\n",
      "Testing synthetic depth map for plane coeffs (ax + by + cz + d = 0): [      1       0       1 -100000]\n",
      "Creating dir (if not exists already): work/tests/\n",
      "WARNING: number of clusters unknown for depth_map_1_0_1_m100000.npy, defaulting to 2 ...\n"
     ]
    },
    {
     "data": {
      "application/vnd.jupyter.widget-view+json": {
       "model_id": "e7471a42170f47d8bd5b1a8e35125b31",
       "version_major": 2,
       "version_minor": 0
      },
      "text/plain": [
       "Canvas(toolbar=Toolbar(toolitems=[('Home', 'Reset original view', 'home', 'home'), ('Back', 'Back to previous …"
      ]
     },
     "metadata": {},
     "output_type": "display_data"
    },
    {
     "name": "stdout",
     "output_type": "stream",
     "text": [
      "clustering normals starting\n",
      "clustering normals finished. It took 0.4372117519378662\n",
      "show loc: False\n"
     ]
    },
    {
     "data": {
      "application/vnd.jupyter.widget-view+json": {
       "model_id": "ae392e0610a7486d87d332ab85694f89",
       "version_major": 2,
       "version_minor": 0
      },
      "text/plain": [
       "Canvas(toolbar=Toolbar(toolitems=[('Home', 'Reset original view', 'home', 'home'), ('Back', 'Back to previous …"
      ]
     },
     "metadata": {},
     "output_type": "display_data"
    },
    {
     "name": "stdout",
     "output_type": "stream",
     "text": [
      "angle between normal 0 and 1: 30.651344749551395 degrees\n"
     ]
    },
    {
     "data": {
      "application/vnd.jupyter.widget-view+json": {
       "model_id": "24af25561cab4b6c97ea9a5d1f51bc21",
       "version_major": 2,
       "version_minor": 0
      },
      "text/plain": [
       "Canvas(toolbar=Toolbar(toolitems=[('Home', 'Reset original view', 'home', 'home'), ('Back', 'Back to previous …"
      ]
     },
     "metadata": {},
     "output_type": "display_data"
    },
    {
     "name": "stdout",
     "output_type": "stream",
     "text": [
      "exact normal of the plane (x, y, y): [-0.70710678  0.         -0.70710678]\n",
      "normal component maxima (x, y, y): [-7.84565840e-01  6.19623926e-01 -4.82890334e-06]\n",
      "normal component minima (x, y, y): [-1.00000000e+00 -6.20045516e-01 -4.56714368e-05]\n",
      "difference of normal component maxima from the exact values (x, y, y): [-0.07745906  0.61962393  0.70710195]\n",
      "difference of normal component minima from the exact values (x, y, y): [-0.29289322 -0.62004552  0.70706111]\n",
      "\n",
      "\n",
      "\n",
      "\n",
      "Testing synthetic depth map for plane coeffs (ax + by + cz + d = 0): [ 0  1  1 -1]\n",
      "Creating dir (if not exists already): work/tests/\n",
      "WARNING: number of clusters unknown for depth_map_0_1_1_m1.npy, defaulting to 2 ...\n"
     ]
    },
    {
     "data": {
      "application/vnd.jupyter.widget-view+json": {
       "model_id": "f4493af8e00548feaba73e2808d15504",
       "version_major": 2,
       "version_minor": 0
      },
      "text/plain": [
       "Canvas(toolbar=Toolbar(toolitems=[('Home', 'Reset original view', 'home', 'home'), ('Back', 'Back to previous …"
      ]
     },
     "metadata": {},
     "output_type": "display_data"
    },
    {
     "name": "stdout",
     "output_type": "stream",
     "text": [
      "clustering normals starting\n",
      "clustering normals finished. It took 0.5998189449310303\n",
      "show loc: False\n"
     ]
    },
    {
     "data": {
      "application/vnd.jupyter.widget-view+json": {
       "model_id": "1cf6877c0bb94a2a88f9db67de85410e",
       "version_major": 2,
       "version_minor": 0
      },
      "text/plain": [
       "Canvas(toolbar=Toolbar(toolitems=[('Home', 'Reset original view', 'home', 'home'), ('Back', 'Back to previous …"
      ]
     },
     "metadata": {},
     "output_type": "display_data"
    },
    {
     "name": "stdout",
     "output_type": "stream",
     "text": [
      "angle between normal 0 and 1: 44.07241375162716 degrees\n"
     ]
    },
    {
     "data": {
      "application/vnd.jupyter.widget-view+json": {
       "model_id": "7d3d8cc9c6b1440f835e557a7736daeb",
       "version_major": 2,
       "version_minor": 0
      },
      "text/plain": [
       "Canvas(toolbar=Toolbar(toolitems=[('Home', 'Reset original view', 'home', 'home'), ('Back', 'Back to previous …"
      ]
     },
     "metadata": {},
     "output_type": "display_data"
    },
    {
     "name": "stdout",
     "output_type": "stream",
     "text": [
      "exact normal of the plane (x, y, y): [ 0.         -0.70710678 -0.70710678]\n",
      "normal component maxima (x, y, y): [ 0.16484394 -0.07935665 -0.16555213]\n",
      "normal component minima (x, y, y): [-0.16584748 -0.98531603 -0.99684629]\n",
      "difference of normal component maxima from the exact values (x, y, y): [0.16484394 0.62775013 0.54155465]\n",
      "difference of normal component minima from the exact values (x, y, y): [-0.16584748 -0.27820925 -0.28973951]\n",
      "\n",
      "\n",
      "\n",
      "\n",
      "Testing synthetic depth map for plane coeffs (ax + by + cz + d = 0): [ 1  2  2 -1]\n",
      "Creating dir (if not exists already): work/tests/\n",
      "WARNING: number of clusters unknown for depth_map_1_2_2_m1.npy, defaulting to 2 ...\n"
     ]
    },
    {
     "data": {
      "application/vnd.jupyter.widget-view+json": {
       "model_id": "4016fab921614d9c90a94e669cad63fc",
       "version_major": 2,
       "version_minor": 0
      },
      "text/plain": [
       "Canvas(toolbar=Toolbar(toolitems=[('Home', 'Reset original view', 'home', 'home'), ('Back', 'Back to previous …"
      ]
     },
     "metadata": {},
     "output_type": "display_data"
    },
    {
     "name": "stdout",
     "output_type": "stream",
     "text": [
      "clustering normals starting\n",
      "clustering normals finished. It took 0.4713859558105469\n",
      "show loc: False\n"
     ]
    },
    {
     "data": {
      "application/vnd.jupyter.widget-view+json": {
       "model_id": "69a0f5bfeed146fea348fbc1996b5001",
       "version_major": 2,
       "version_minor": 0
      },
      "text/plain": [
       "Canvas(toolbar=Toolbar(toolitems=[('Home', 'Reset original view', 'home', 'home'), ('Back', 'Back to previous …"
      ]
     },
     "metadata": {},
     "output_type": "display_data"
    },
    {
     "name": "stdout",
     "output_type": "stream",
     "text": [
      "angle between normal 0 and 1: 40.64932784529187 degrees\n"
     ]
    },
    {
     "data": {
      "application/vnd.jupyter.widget-view+json": {
       "model_id": "5439771ed7de411d9befb492db94e59e",
       "version_major": 2,
       "version_minor": 0
      },
      "text/plain": [
       "Canvas(toolbar=Toolbar(toolitems=[('Home', 'Reset original view', 'home', 'home'), ('Back', 'Back to previous …"
      ]
     },
     "metadata": {},
     "output_type": "display_data"
    },
    {
     "name": "stdout",
     "output_type": "stream",
     "text": [
      "exact normal of the plane (x, y, y): [-0.33333333 -0.66666667 -0.66666667]\n",
      "normal component maxima (x, y, y): [-0.0113267  -0.03210618 -0.09948038]\n",
      "normal component minima (x, y, y): [-0.44907241 -0.88847901 -0.99941543]\n",
      "difference of normal component maxima from the exact values (x, y, y): [0.32200664 0.63456049 0.56718628]\n",
      "difference of normal component minima from the exact values (x, y, y): [-0.11573908 -0.22181235 -0.33274876]\n",
      "\n",
      "\n",
      "\n",
      "\n",
      "Testing synthetic depth map for plane coeffs (ax + by + cz + d = 0): [ 1  3  3 -1]\n",
      "Creating dir (if not exists already): work/tests/\n",
      "WARNING: number of clusters unknown for depth_map_1_3_3_m1.npy, defaulting to 2 ...\n"
     ]
    },
    {
     "data": {
      "application/vnd.jupyter.widget-view+json": {
       "model_id": "ff585ed8021a4c4fa8cf5b643743ea68",
       "version_major": 2,
       "version_minor": 0
      },
      "text/plain": [
       "Canvas(toolbar=Toolbar(toolitems=[('Home', 'Reset original view', 'home', 'home'), ('Back', 'Back to previous …"
      ]
     },
     "metadata": {},
     "output_type": "display_data"
    },
    {
     "name": "stdout",
     "output_type": "stream",
     "text": [
      "clustering normals starting\n",
      "clustering normals finished. It took 0.48445892333984375\n",
      "show loc: False\n"
     ]
    },
    {
     "data": {
      "application/vnd.jupyter.widget-view+json": {
       "model_id": "1c5a636713a04076bb3370b4aefab40a",
       "version_major": 2,
       "version_minor": 0
      },
      "text/plain": [
       "Canvas(toolbar=Toolbar(toolitems=[('Home', 'Reset original view', 'home', 'home'), ('Back', 'Back to previous …"
      ]
     },
     "metadata": {},
     "output_type": "display_data"
    },
    {
     "name": "stdout",
     "output_type": "stream",
     "text": [
      "angle between normal 0 and 1: 35.56852429154322 degrees\n"
     ]
    },
    {
     "data": {
      "application/vnd.jupyter.widget-view+json": {
       "model_id": "c84769e27e084cec811c6ddb38b9991f",
       "version_major": 2,
       "version_minor": 0
      },
      "text/plain": [
       "Canvas(toolbar=Toolbar(toolitems=[('Home', 'Reset original view', 'home', 'home'), ('Back', 'Back to previous …"
      ]
     },
     "metadata": {},
     "output_type": "display_data"
    },
    {
     "name": "stdout",
     "output_type": "stream",
     "text": [
      "exact normal of the plane (x, y, y): [-0.22941573 -0.6882472  -0.6882472 ]\n",
      "normal component maxima (x, y, y): [ 0.00717845 -0.0240618  -0.23993767]\n",
      "normal component minima (x, y, y): [-0.32519236 -0.91470205 -0.99970488]\n",
      "difference of normal component maxima from the exact values (x, y, y): [0.23659418 0.6641854  0.44830953]\n",
      "difference of normal component minima from the exact values (x, y, y): [-0.09577662 -0.22645485 -0.31145768]\n",
      "\n",
      "\n",
      "\n",
      "\n",
      "Testing synthetic depth map for plane coeffs (ax + by + cz + d = 0): [ 1  1  1 -1]\n",
      "Creating dir (if not exists already): work/tests/\n",
      "WARNING: number of clusters unknown for depth_map_1_1_1_m1.npy, defaulting to 2 ...\n"
     ]
    },
    {
     "data": {
      "application/vnd.jupyter.widget-view+json": {
       "model_id": "e6dc2751f321426d97aba622bf087fc1",
       "version_major": 2,
       "version_minor": 0
      },
      "text/plain": [
       "Canvas(toolbar=Toolbar(toolitems=[('Home', 'Reset original view', 'home', 'home'), ('Back', 'Back to previous …"
      ]
     },
     "metadata": {},
     "output_type": "display_data"
    },
    {
     "name": "stdout",
     "output_type": "stream",
     "text": [
      "clustering normals starting\n",
      "clustering normals finished. It took 0.6205251216888428\n",
      "show loc: False\n"
     ]
    },
    {
     "data": {
      "application/vnd.jupyter.widget-view+json": {
       "model_id": "c802e083fb63461a984eebda5b0c66cc",
       "version_major": 2,
       "version_minor": 0
      },
      "text/plain": [
       "Canvas(toolbar=Toolbar(toolitems=[('Home', 'Reset original view', 'home', 'home'), ('Back', 'Back to previous …"
      ]
     },
     "metadata": {},
     "output_type": "display_data"
    },
    {
     "name": "stdout",
     "output_type": "stream",
     "text": [
      "angle between normal 0 and 1: 42.273191660084066 degrees\n"
     ]
    },
    {
     "data": {
      "application/vnd.jupyter.widget-view+json": {
       "model_id": "9ff4e242c2374ef5a90bd23f9c029746",
       "version_major": 2,
       "version_minor": 0
      },
      "text/plain": [
       "Canvas(toolbar=Toolbar(toolitems=[('Home', 'Reset original view', 'home', 'home'), ('Back', 'Back to previous …"
      ]
     },
     "metadata": {},
     "output_type": "display_data"
    },
    {
     "name": "stdout",
     "output_type": "stream",
     "text": [
      "exact normal of the plane (x, y, y): [-0.57735027 -0.57735027 -0.57735027]\n",
      "normal component maxima (x, y, y): [-0.11099573 -0.03954926 -0.00184151]\n",
      "normal component minima (x, y, y): [-0.71251729 -0.77404817 -0.99303364]\n",
      "difference of normal component maxima from the exact values (x, y, y): [0.46635454 0.53780101 0.57550875]\n",
      "difference of normal component minima from the exact values (x, y, y): [-0.13516702 -0.1966979  -0.41568337]\n",
      "\n",
      "\n",
      "\n",
      "\n",
      "Testing synthetic depth map for plane coeffs (ax + by + cz + d = 0): [ 2  1  2 -1]\n",
      "Creating dir (if not exists already): work/tests/\n",
      "WARNING: number of clusters unknown for depth_map_2_1_2_m1.npy, defaulting to 2 ...\n"
     ]
    },
    {
     "data": {
      "application/vnd.jupyter.widget-view+json": {
       "model_id": "57e25b7fd6d74e3ab818d5b4830db0a9",
       "version_major": 2,
       "version_minor": 0
      },
      "text/plain": [
       "Canvas(toolbar=Toolbar(toolitems=[('Home', 'Reset original view', 'home', 'home'), ('Back', 'Back to previous …"
      ]
     },
     "metadata": {},
     "output_type": "display_data"
    },
    {
     "name": "stdout",
     "output_type": "stream",
     "text": [
      "clustering normals starting\n",
      "clustering normals finished. It took 0.664503812789917\n",
      "show loc: False\n"
     ]
    },
    {
     "data": {
      "application/vnd.jupyter.widget-view+json": {
       "model_id": "f8321c59a1fc41c495f675b45263ce89",
       "version_major": 2,
       "version_minor": 0
      },
      "text/plain": [
       "Canvas(toolbar=Toolbar(toolitems=[('Home', 'Reset original view', 'home', 'home'), ('Back', 'Back to previous …"
      ]
     },
     "metadata": {},
     "output_type": "display_data"
    },
    {
     "name": "stdout",
     "output_type": "stream",
     "text": [
      "angle between normal 0 and 1: 29.084649618112213 degrees\n"
     ]
    },
    {
     "data": {
      "application/vnd.jupyter.widget-view+json": {
       "model_id": "f071ee0b402c48369f807921412be98a",
       "version_major": 2,
       "version_minor": 0
      },
      "text/plain": [
       "Canvas(toolbar=Toolbar(toolitems=[('Home', 'Reset original view', 'home', 'home'), ('Back', 'Back to previous …"
      ]
     },
     "metadata": {},
     "output_type": "display_data"
    },
    {
     "name": "stdout",
     "output_type": "stream",
     "text": [
      "exact normal of the plane (x, y, y): [-0.66666667 -0.33333333 -0.66666667]\n",
      "normal component maxima (x, y, y): [-0.0874457   0.02497528 -0.250908  ]\n",
      "normal component minima (x, y, y): [-0.83112704 -0.49914022 -0.99614902]\n",
      "difference of normal component maxima from the exact values (x, y, y): [0.57922097 0.35830861 0.41575867]\n",
      "difference of normal component minima from the exact values (x, y, y): [-0.16446037 -0.16580688 -0.32948235]\n",
      "\n",
      "\n",
      "\n",
      "\n",
      "Testing synthetic depth map for plane coeffs (ax + by + cz + d = 0): [ 3  1  3 -1]\n",
      "Creating dir (if not exists already): work/tests/\n",
      "WARNING: number of clusters unknown for depth_map_3_1_3_m1.npy, defaulting to 2 ...\n"
     ]
    },
    {
     "data": {
      "application/vnd.jupyter.widget-view+json": {
       "model_id": "b30159581ab242728f16aa879ff98449",
       "version_major": 2,
       "version_minor": 0
      },
      "text/plain": [
       "Canvas(toolbar=Toolbar(toolitems=[('Home', 'Reset original view', 'home', 'home'), ('Back', 'Back to previous …"
      ]
     },
     "metadata": {},
     "output_type": "display_data"
    },
    {
     "name": "stdout",
     "output_type": "stream",
     "text": [
      "clustering normals starting\n",
      "clustering normals finished. It took 0.6746907234191895\n",
      "show loc: False\n"
     ]
    },
    {
     "data": {
      "application/vnd.jupyter.widget-view+json": {
       "model_id": "f50aedd2de5b4253b48bf9ba89fb954c",
       "version_major": 2,
       "version_minor": 0
      },
      "text/plain": [
       "Canvas(toolbar=Toolbar(toolitems=[('Home', 'Reset original view', 'home', 'home'), ('Back', 'Back to previous …"
      ]
     },
     "metadata": {},
     "output_type": "display_data"
    },
    {
     "name": "stdout",
     "output_type": "stream",
     "text": [
      "angle between normal 0 and 1: 19.36066809866326 degrees\n"
     ]
    },
    {
     "data": {
      "application/vnd.jupyter.widget-view+json": {
       "model_id": "74413a2314c14e70a385fc446a697b6f",
       "version_major": 2,
       "version_minor": 0
      },
      "text/plain": [
       "Canvas(toolbar=Toolbar(toolitems=[('Home', 'Reset original view', 'home', 'home'), ('Back', 'Back to previous …"
      ]
     },
     "metadata": {},
     "output_type": "display_data"
    },
    {
     "name": "stdout",
     "output_type": "stream",
     "text": [
      "exact normal of the plane (x, y, y): [-0.6882472  -0.22941573 -0.6882472 ]\n",
      "normal component maxima (x, y, y): [-0.0657701   0.03468002 -0.55515234]\n",
      "normal component minima (x, y, y): [-0.7522776  -0.35480176 -0.99783021]\n",
      "difference of normal component maxima from the exact values (x, y, y): [0.6224771  0.26409575 0.13309486]\n",
      "difference of normal component minima from the exact values (x, y, y): [-0.0640304  -0.12538603 -0.30958301]\n"
     ]
    }
   ],
   "source": [
    "Config.config_map[Config.show_normals_in_img] = False\n",
    "test_depth_to_normals(old_implementation=True, impl=\"diff\")"
   ]
  },
  {
   "cell_type": "code",
   "execution_count": null,
   "id": "level-soldier",
   "metadata": {},
   "outputs": [],
   "source": []
  }
 ],
 "metadata": {
  "kernelspec": {
   "display_name": "Python 3",
   "language": "python",
   "name": "python3"
  },
  "language_info": {
   "codemirror_mode": {
    "name": "ipython",
    "version": 3
   },
   "file_extension": ".py",
   "mimetype": "text/x-python",
   "name": "python",
   "nbconvert_exporter": "python",
   "pygments_lexer": "ipython3",
   "version": "3.8.5"
  }
 },
 "nbformat": 4,
 "nbformat_minor": 5
}
