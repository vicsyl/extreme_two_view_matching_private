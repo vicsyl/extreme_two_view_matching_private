{
 "cells": [
  {
   "cell_type": "code",
   "execution_count": null,
   "id": "comfortable-platform",
   "metadata": {},
   "outputs": [],
   "source": [
    "import sys  \n",
    "sys.path.insert(0, '/Users/vaclav/ownCloud/diploma_thesis/project/AdaLAM/adalam')\n",
    "sys.path.insert(0, '/Users/vaclav/ownCloud/diploma_thesis/project/AdaLAM/examples')\n",
    "\n",
    "\n",
    "%matplotlib inline\n",
    "from pipeline import *\n",
    "from matching import find_correspondences, find_correspondences\n",
    "\n",
    "Timer.start()\n",
    "\n",
    "pipeline = Pipeline.configure(\"notebook_configs/adalam_config_whole.txt\", None)\n",
    "pipeline.start()\n",
    "\n",
    "img1 = \"frame_0000001865_1\"\n",
    "img2 = \"frame_0000001355_1\"\n",
    "\n",
    "imd1 = pipeline.process_image(img1)\n",
    "imd2 = pipeline.process_image(img2)\n",
    "\n",
    "descriptions: np.ndarray\n",
    "    pts: np.ndarray\n",
    "    orig_pts: np.ndarray\n",
    "    ors: np.ndarray\n",
    "    scs: np.ndarray\n",
    "\n",
    "matcher = AdalamFilter()\n",
    "matches = matcher.match_and_filter(k1=k1, k2=k2,\n",
    "                                   o1=o1, o2=o2,\n",
    "                                   d1=imd1.descriptions, d2=imd2.descriptions,\n",
    "                                   s1=s1, s2=s2,\n",
    "                                   im1shape=im1.shape[:2], im2shape=im2.shape[:2]).cpu().numpy()\n",
    "\n"
   ]
  },
  {
   "cell_type": "code",
   "execution_count": null,
   "id": "centered-testament",
   "metadata": {},
   "outputs": [],
   "source": []
  }
 ],
 "metadata": {
  "kernelspec": {
   "display_name": "Python 3",
   "language": "python",
   "name": "python3"
  },
  "language_info": {
   "codemirror_mode": {
    "name": "ipython",
    "version": 3
   },
   "file_extension": ".py",
   "mimetype": "text/x-python",
   "name": "python",
   "nbconvert_exporter": "python",
   "pygments_lexer": "ipython3",
   "version": "3.8.5"
  }
 },
 "nbformat": 4,
 "nbformat_minor": 5
}
