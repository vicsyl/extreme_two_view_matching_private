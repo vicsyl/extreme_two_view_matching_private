{
 "cells": [
  {
   "cell_type": "code",
   "execution_count": 1,
   "id": "equipped-ceramic",
   "metadata": {},
   "outputs": [],
   "source": [
    "\n",
    "import time\n",
    "\n",
    "import cv2 as cv\n",
    "import numpy as np\n",
    "import torch\n",
    "\n",
    "from config import Config\n",
    "\n",
    "from scene_info import read_cameras, read_images, SceneInfo, CameraEntry\n",
    "from image_processing import spatial_gradient_first_order\n",
    "from tests import *\n",
    "from utils import *\n",
    "from img_utils import show_and_save_normal_clusters, show_point_cloud\n",
    "import matplotlib.pyplot as plt\n",
    "%matplotlib widget\n",
    "\n",
    "import spherical_kmeans\n",
    "from pathlib import Path\n",
    "from clusters_map import clusters_map\n",
    "\n",
    "from depth_to_normals import *\n",
    "\n",
    "def visualize_normals(impl, old_impl=False):\n",
    "\n",
    "    Timer.start()\n",
    "    Config.log()\n",
    "\n",
    "    scene_name = \"scene1\"\n",
    "    scene_info = SceneInfo.read_scene(scene_name, lazy=True)\n",
    "    \n",
    "    file_names = ['frame_0000000010_3.npy', # 'frame_0000000015_3.npy', \n",
    "                  'frame_0000000015_4.npy', #'frame_0000000020_3.npy', \n",
    "                   'frame_0000000020_4.npy', #'frame_0000000025_3.npy', \n",
    "#                   'frame_0000000025_4.npy', 'frame_0000000030_1.npy', \n",
    "#                   'frame_0000000030_2.npy', 'frame_0000000030_3.npy',\n",
    "                 ]\n",
    "    input_directory = \"depth_data/mega_depth/{}\".format(scene_name)\n",
    "\n",
    "    \n",
    "    compute_normals_all(scene_info, \n",
    "                        file_names, \n",
    "                        input_directory,\n",
    "                        save=False, \n",
    "                        output_parent_dir=None, \n",
    "                        skip_existing=False, \n",
    "                        impl=impl,\n",
    "                        old_impl=old_impl)\n",
    "\n",
    "    Timer.end()\n"
   ]
  },
  {
   "cell_type": "code",
   "execution_count": 2,
   "id": "brutal-whole",
   "metadata": {
    "scrolled": false
   },
   "outputs": [
    {
     "name": "stdout",
     "output_type": "stream",
     "text": [
      "Starting the timer\n",
      "Config:\n",
      "  rectify: True,\n",
      "  do_flann: True,\n",
      "  key_planes_based_matching_merge_components: True,\n",
      "  show_normals_in_img: True,\n",
      "  save_normals_in_img: True,\n",
      "  config_map = {'rectify': True, 'do_flann': True, 'key_planes_based_matching_merge_components': True, 'show_normals_in_img': True, 'save_normals_in_img': True}\n",
      "  key_do_flann = do_flann\n",
      "  key_planes_based_matching_merge_components = key_planes_based_matching_merge_components\n",
      "  key_rectify = rectify\n",
      "  save_normals_in_img = save_normals_in_img\n",
      "  show_normals_in_img = show_normals_in_img\n",
      "  svd_smoothing = False\n",
      "  svd_smoothing_sigma = 1.33\n",
      "  svd_weighted = True\n",
      "  svd_weighted_sigma = 0.8\n",
      "\n",
      "reading scene info starting\n",
      "scene=scene1, lazy=True\n",
      "reading scene info finished. It took 1.1371259689331055\n",
      "file names:\n",
      "['frame_0000000010_3.npy', 'frame_0000000015_4.npy', 'frame_0000000020_4.npy']\n",
      "input dir:\n",
      "depth_data/mega_depth/scene1\n",
      "Processing: frame_0000000010_3.npy\n",
      "using svd\n",
      "WARNING: number of clusters unknown for frame_0000000010_3.npy, defaulting to 2 ...\n",
      "clustering normals starting\n",
      "clustering normals finished. It took 0.4284811019897461\n"
     ]
    },
    {
     "data": {
      "application/vnd.jupyter.widget-view+json": {
       "model_id": "0e30a4b0898c442ab52964af9b1552a0",
       "version_major": 2,
       "version_minor": 0
      },
      "text/plain": [
       "Canvas(toolbar=Toolbar(toolitems=[('Home', 'Reset original view', 'home', 'home'), ('Back', 'Back to previous …"
      ]
     },
     "metadata": {},
     "output_type": "display_data"
    },
    {
     "name": "stderr",
     "output_type": "stream",
     "text": [
      "Clipping input data to the valid range for imshow with RGB data ([0..1] for floats or [0..255] for integers).\n"
     ]
    },
    {
     "data": {
      "application/vnd.jupyter.widget-view+json": {
       "model_id": "c19ad97321154b7b834d4dbc5ec7f5a4",
       "version_major": 2,
       "version_minor": 0
      },
      "text/plain": [
       "Canvas(toolbar=Toolbar(toolitems=[('Home', 'Reset original view', 'home', 'home'), ('Back', 'Back to previous …"
      ]
     },
     "metadata": {},
     "output_type": "display_data"
    },
    {
     "name": "stdout",
     "output_type": "stream",
     "text": [
      "angle between normal 0 and 1: 77.51300285253667 degrees\n",
      "Processing: frame_0000000015_4.npy\n",
      "using svd\n",
      "WARNING: number of clusters unknown for frame_0000000015_4.npy, defaulting to 2 ...\n",
      "clustering normals starting\n",
      "clustering normals finished. It took 0.3374330997467041\n"
     ]
    },
    {
     "data": {
      "application/vnd.jupyter.widget-view+json": {
       "model_id": "467e2103f53a4a5eaf7c1171fad26ee6",
       "version_major": 2,
       "version_minor": 0
      },
      "text/plain": [
       "Canvas(toolbar=Toolbar(toolitems=[('Home', 'Reset original view', 'home', 'home'), ('Back', 'Back to previous …"
      ]
     },
     "metadata": {},
     "output_type": "display_data"
    },
    {
     "name": "stderr",
     "output_type": "stream",
     "text": [
      "Clipping input data to the valid range for imshow with RGB data ([0..1] for floats or [0..255] for integers).\n"
     ]
    },
    {
     "data": {
      "application/vnd.jupyter.widget-view+json": {
       "model_id": "17fa5abd6ab7491c91bab5f82aaadcd5",
       "version_major": 2,
       "version_minor": 0
      },
      "text/plain": [
       "Canvas(toolbar=Toolbar(toolitems=[('Home', 'Reset original view', 'home', 'home'), ('Back', 'Back to previous …"
      ]
     },
     "metadata": {},
     "output_type": "display_data"
    },
    {
     "name": "stdout",
     "output_type": "stream",
     "text": [
      "angle between normal 0 and 1: 80.72051432828802 degrees\n",
      "Processing: frame_0000000020_4.npy\n",
      "using svd\n",
      "WARNING: number of clusters unknown for frame_0000000020_4.npy, defaulting to 2 ...\n",
      "clustering normals starting\n",
      "clustering normals finished. It took 0.3388090133666992\n"
     ]
    },
    {
     "data": {
      "application/vnd.jupyter.widget-view+json": {
       "model_id": "e4e1e28c2486420f966c1d8b66e4c3f1",
       "version_major": 2,
       "version_minor": 0
      },
      "text/plain": [
       "Canvas(toolbar=Toolbar(toolitems=[('Home', 'Reset original view', 'home', 'home'), ('Back', 'Back to previous …"
      ]
     },
     "metadata": {},
     "output_type": "display_data"
    },
    {
     "name": "stderr",
     "output_type": "stream",
     "text": [
      "Clipping input data to the valid range for imshow with RGB data ([0..1] for floats or [0..255] for integers).\n"
     ]
    },
    {
     "data": {
      "application/vnd.jupyter.widget-view+json": {
       "model_id": "2413d8ce6c6842c380fbac6660ba3fd9",
       "version_major": 2,
       "version_minor": 0
      },
      "text/plain": [
       "Canvas(toolbar=Toolbar(toolitems=[('Home', 'Reset original view', 'home', 'home'), ('Back', 'Back to previous …"
      ]
     },
     "metadata": {},
     "output_type": "display_data"
    },
    {
     "name": "stdout",
     "output_type": "stream",
     "text": [
      "angle between normal 0 and 1: 82.65093069340871 degrees\n",
      "Done. Time elapsed from start: 4.6020., \n",
      "Statistics: \n",
      "reading scene info called 1 times and it took 1.1371 secs. on average\n",
      "clustering normals called 3 times and it took 0.3682 secs. on average\n"
     ]
    }
   ],
   "source": [
    "Config.config_map[Config.show_normals_in_img] = True\n",
    "\n",
    "visualize_normals(impl=\"svd\")"
   ]
  },
  {
   "cell_type": "code",
   "execution_count": 3,
   "id": "authentic-cinema",
   "metadata": {
    "scrolled": false
   },
   "outputs": [
    {
     "name": "stdout",
     "output_type": "stream",
     "text": [
      "Starting the timer\n",
      "Config:\n",
      "  rectify: True,\n",
      "  do_flann: True,\n",
      "  key_planes_based_matching_merge_components: True,\n",
      "  show_normals_in_img: True,\n",
      "  save_normals_in_img: True,\n",
      "  config_map = {'rectify': True, 'do_flann': True, 'key_planes_based_matching_merge_components': True, 'show_normals_in_img': True, 'save_normals_in_img': True}\n",
      "  key_do_flann = do_flann\n",
      "  key_planes_based_matching_merge_components = key_planes_based_matching_merge_components\n",
      "  key_rectify = rectify\n",
      "  save_normals_in_img = save_normals_in_img\n",
      "  show_normals_in_img = show_normals_in_img\n",
      "  svd_smoothing = False\n",
      "  svd_smoothing_sigma = 1.33\n",
      "  svd_weighted = True\n",
      "  svd_weighted_sigma = 0.8\n",
      "\n",
      "reading scene info starting\n",
      "scene=scene1, lazy=True\n",
      "reading scene info finished. It took 1.1113801002502441\n",
      "file names:\n",
      "['frame_0000000010_3.npy', 'frame_0000000015_4.npy', 'frame_0000000020_4.npy']\n",
      "input dir:\n",
      "depth_data/mega_depth/scene1\n",
      "Processing: frame_0000000010_3.npy\n",
      "using conv mask\n",
      "WARNING: number of clusters unknown for frame_0000000010_3.npy, defaulting to 2 ...\n",
      "clustering normals starting\n",
      "clustering normals finished. It took 0.3295261859893799\n"
     ]
    },
    {
     "data": {
      "application/vnd.jupyter.widget-view+json": {
       "model_id": "87919f5e228d4638a2d91c25da28aced",
       "version_major": 2,
       "version_minor": 0
      },
      "text/plain": [
       "Canvas(toolbar=Toolbar(toolitems=[('Home', 'Reset original view', 'home', 'home'), ('Back', 'Back to previous …"
      ]
     },
     "metadata": {},
     "output_type": "display_data"
    },
    {
     "name": "stderr",
     "output_type": "stream",
     "text": [
      "Clipping input data to the valid range for imshow with RGB data ([0..1] for floats or [0..255] for integers).\n"
     ]
    },
    {
     "data": {
      "application/vnd.jupyter.widget-view+json": {
       "model_id": "cfb26e98c4004b4984c06c0ecfe16c26",
       "version_major": 2,
       "version_minor": 0
      },
      "text/plain": [
       "Canvas(toolbar=Toolbar(toolitems=[('Home', 'Reset original view', 'home', 'home'), ('Back', 'Back to previous …"
      ]
     },
     "metadata": {},
     "output_type": "display_data"
    },
    {
     "name": "stdout",
     "output_type": "stream",
     "text": [
      "angle between normal 0 and 1: 79.202477464496 degrees\n",
      "Processing: frame_0000000015_4.npy\n",
      "using conv mask\n",
      "WARNING: number of clusters unknown for frame_0000000015_4.npy, defaulting to 2 ...\n",
      "clustering normals starting\n"
     ]
    },
    {
     "name": "stderr",
     "output_type": "stream",
     "text": [
      "/Users/vaclav/ownCloud/diploma_thesis/project/depth_to_normals.py:96: RuntimeWarning: invalid value encountered in true_divide\n",
      "  unit_rotation_vector = rotation_vector[:, :, 0, :] / rotation_vector_norm\n"
     ]
    },
    {
     "name": "stdout",
     "output_type": "stream",
     "text": [
      "clustering normals finished. It took 0.29337191581726074\n"
     ]
    },
    {
     "data": {
      "application/vnd.jupyter.widget-view+json": {
       "model_id": "66509bd486e2430192162e38f8d5a662",
       "version_major": 2,
       "version_minor": 0
      },
      "text/plain": [
       "Canvas(toolbar=Toolbar(toolitems=[('Home', 'Reset original view', 'home', 'home'), ('Back', 'Back to previous …"
      ]
     },
     "metadata": {},
     "output_type": "display_data"
    },
    {
     "name": "stderr",
     "output_type": "stream",
     "text": [
      "Clipping input data to the valid range for imshow with RGB data ([0..1] for floats or [0..255] for integers).\n"
     ]
    },
    {
     "data": {
      "application/vnd.jupyter.widget-view+json": {
       "model_id": "4b0d89374ad9454484231a38573f2848",
       "version_major": 2,
       "version_minor": 0
      },
      "text/plain": [
       "Canvas(toolbar=Toolbar(toolitems=[('Home', 'Reset original view', 'home', 'home'), ('Back', 'Back to previous …"
      ]
     },
     "metadata": {},
     "output_type": "display_data"
    },
    {
     "name": "stdout",
     "output_type": "stream",
     "text": [
      "angle between normal 0 and 1: 79.8694795878936 degrees\n",
      "Processing: frame_0000000020_4.npy\n",
      "using conv mask\n",
      "WARNING: number of clusters unknown for frame_0000000020_4.npy, defaulting to 2 ...\n",
      "clustering normals starting\n"
     ]
    },
    {
     "name": "stderr",
     "output_type": "stream",
     "text": [
      "/Users/vaclav/ownCloud/diploma_thesis/project/depth_to_normals.py:96: RuntimeWarning: invalid value encountered in true_divide\n",
      "  unit_rotation_vector = rotation_vector[:, :, 0, :] / rotation_vector_norm\n"
     ]
    },
    {
     "name": "stdout",
     "output_type": "stream",
     "text": [
      "clustering normals finished. It took 0.326401948928833\n"
     ]
    },
    {
     "data": {
      "application/vnd.jupyter.widget-view+json": {
       "model_id": "d48897ecbd0a46ebbb4721416a8b46cd",
       "version_major": 2,
       "version_minor": 0
      },
      "text/plain": [
       "Canvas(toolbar=Toolbar(toolitems=[('Home', 'Reset original view', 'home', 'home'), ('Back', 'Back to previous …"
      ]
     },
     "metadata": {},
     "output_type": "display_data"
    },
    {
     "name": "stderr",
     "output_type": "stream",
     "text": [
      "Clipping input data to the valid range for imshow with RGB data ([0..1] for floats or [0..255] for integers).\n"
     ]
    },
    {
     "data": {
      "application/vnd.jupyter.widget-view+json": {
       "model_id": "17a0c591a0d0444ba73d9b21bb3a4551",
       "version_major": 2,
       "version_minor": 0
      },
      "text/plain": [
       "Canvas(toolbar=Toolbar(toolitems=[('Home', 'Reset original view', 'home', 'home'), ('Back', 'Back to previous …"
      ]
     },
     "metadata": {},
     "output_type": "display_data"
    },
    {
     "name": "stdout",
     "output_type": "stream",
     "text": [
      "angle between normal 0 and 1: 83.5862499681611 degrees\n",
      "Done. Time elapsed from start: 3.4521., \n",
      "Statistics: \n",
      "reading scene info called 2 times and it took 1.1243 secs. on average\n",
      "clustering normals called 6 times and it took 0.3423 secs. on average\n"
     ]
    }
   ],
   "source": [
    "Config.config_map[Config.show_normals_in_img] = True\n",
    "visualize_normals(impl=\"conv_mask\")"
   ]
  },
  {
   "cell_type": "code",
   "execution_count": 4,
   "id": "american-brother",
   "metadata": {
    "scrolled": false
   },
   "outputs": [
    {
     "name": "stdout",
     "output_type": "stream",
     "text": [
      "Starting the timer\n",
      "Config:\n",
      "  rectify: True,\n",
      "  do_flann: True,\n",
      "  key_planes_based_matching_merge_components: True,\n",
      "  show_normals_in_img: True,\n",
      "  save_normals_in_img: True,\n",
      "  config_map = {'rectify': True, 'do_flann': True, 'key_planes_based_matching_merge_components': True, 'show_normals_in_img': True, 'save_normals_in_img': True}\n",
      "  key_do_flann = do_flann\n",
      "  key_planes_based_matching_merge_components = key_planes_based_matching_merge_components\n",
      "  key_rectify = rectify\n",
      "  save_normals_in_img = save_normals_in_img\n",
      "  show_normals_in_img = show_normals_in_img\n",
      "  svd_smoothing = False\n",
      "  svd_smoothing_sigma = 1.33\n",
      "  svd_weighted = True\n",
      "  svd_weighted_sigma = 0.8\n",
      "\n",
      "reading scene info starting\n",
      "scene=scene1, lazy=True\n",
      "reading scene info finished. It took 1.1294028759002686\n",
      "file names:\n",
      "['frame_0000000010_3.npy', 'frame_0000000015_4.npy', 'frame_0000000020_4.npy']\n",
      "input dir:\n",
      "depth_data/mega_depth/scene1\n",
      "Processing: frame_0000000010_3.npy\n",
      "using conv mask\n",
      "WARNING: number of clusters unknown for frame_0000000010_3.npy, defaulting to 2 ...\n",
      "clustering normals starting\n",
      "clustering normals finished. It took 0.595149040222168\n"
     ]
    },
    {
     "data": {
      "application/vnd.jupyter.widget-view+json": {
       "model_id": "4c10cfcebd234653937a3df62e26c56c",
       "version_major": 2,
       "version_minor": 0
      },
      "text/plain": [
       "Canvas(toolbar=Toolbar(toolitems=[('Home', 'Reset original view', 'home', 'home'), ('Back', 'Back to previous …"
      ]
     },
     "metadata": {},
     "output_type": "display_data"
    },
    {
     "name": "stderr",
     "output_type": "stream",
     "text": [
      "Clipping input data to the valid range for imshow with RGB data ([0..1] for floats or [0..255] for integers).\n"
     ]
    },
    {
     "data": {
      "application/vnd.jupyter.widget-view+json": {
       "model_id": "7c8707da5b7a4af9955c79820b098222",
       "version_major": 2,
       "version_minor": 0
      },
      "text/plain": [
       "Canvas(toolbar=Toolbar(toolitems=[('Home', 'Reset original view', 'home', 'home'), ('Back', 'Back to previous …"
      ]
     },
     "metadata": {},
     "output_type": "display_data"
    },
    {
     "name": "stdout",
     "output_type": "stream",
     "text": [
      "angle between normal 0 and 1: 39.49683929078436 degrees\n",
      "Processing: frame_0000000015_4.npy\n",
      "using conv mask\n",
      "WARNING: number of clusters unknown for frame_0000000015_4.npy, defaulting to 2 ...\n",
      "clustering normals starting\n",
      "clustering normals finished. It took 0.4513578414916992\n"
     ]
    },
    {
     "data": {
      "application/vnd.jupyter.widget-view+json": {
       "model_id": "e1ba0317d2e745578eb466fdc624212e",
       "version_major": 2,
       "version_minor": 0
      },
      "text/plain": [
       "Canvas(toolbar=Toolbar(toolitems=[('Home', 'Reset original view', 'home', 'home'), ('Back', 'Back to previous …"
      ]
     },
     "metadata": {},
     "output_type": "display_data"
    },
    {
     "name": "stderr",
     "output_type": "stream",
     "text": [
      "Clipping input data to the valid range for imshow with RGB data ([0..1] for floats or [0..255] for integers).\n"
     ]
    },
    {
     "data": {
      "application/vnd.jupyter.widget-view+json": {
       "model_id": "c08d7feec4554ad7b790f9b856c2bee6",
       "version_major": 2,
       "version_minor": 0
      },
      "text/plain": [
       "Canvas(toolbar=Toolbar(toolitems=[('Home', 'Reset original view', 'home', 'home'), ('Back', 'Back to previous …"
      ]
     },
     "metadata": {},
     "output_type": "display_data"
    },
    {
     "name": "stdout",
     "output_type": "stream",
     "text": [
      "angle between normal 0 and 1: 46.15528676921172 degrees\n",
      "Processing: frame_0000000020_4.npy\n",
      "using conv mask\n",
      "WARNING: number of clusters unknown for frame_0000000020_4.npy, defaulting to 2 ...\n",
      "clustering normals starting\n",
      "clustering normals finished. It took 0.47376108169555664\n"
     ]
    },
    {
     "data": {
      "application/vnd.jupyter.widget-view+json": {
       "model_id": "3c83ac639651472987ac4075a050f631",
       "version_major": 2,
       "version_minor": 0
      },
      "text/plain": [
       "Canvas(toolbar=Toolbar(toolitems=[('Home', 'Reset original view', 'home', 'home'), ('Back', 'Back to previous …"
      ]
     },
     "metadata": {},
     "output_type": "display_data"
    },
    {
     "name": "stderr",
     "output_type": "stream",
     "text": [
      "Clipping input data to the valid range for imshow with RGB data ([0..1] for floats or [0..255] for integers).\n"
     ]
    },
    {
     "data": {
      "application/vnd.jupyter.widget-view+json": {
       "model_id": "3e355f505f7a4e6f9e8eaead4df238f7",
       "version_major": 2,
       "version_minor": 0
      },
      "text/plain": [
       "Canvas(toolbar=Toolbar(toolitems=[('Home', 'Reset original view', 'home', 'home'), ('Back', 'Back to previous …"
      ]
     },
     "metadata": {},
     "output_type": "display_data"
    },
    {
     "name": "stdout",
     "output_type": "stream",
     "text": [
      "angle between normal 0 and 1: 46.373214199964735 degrees\n",
      "Done. Time elapsed from start: 3.5200., \n",
      "Statistics: \n",
      "reading scene info called 3 times and it took 1.1260 secs. on average\n",
      "clustering normals called 9 times and it took 0.3971 secs. on average\n"
     ]
    }
   ],
   "source": [
    "Config.config_map[Config.show_normals_in_img] = True\n",
    "visualize_normals(impl=\"conv_mask\", old_impl=True)"
   ]
  },
  {
   "cell_type": "code",
   "execution_count": null,
   "id": "adjusted-kansas",
   "metadata": {},
   "outputs": [],
   "source": []
  }
 ],
 "metadata": {
  "kernelspec": {
   "display_name": "Python 3",
   "language": "python",
   "name": "python3"
  },
  "language_info": {
   "codemirror_mode": {
    "name": "ipython",
    "version": 3
   },
   "file_extension": ".py",
   "mimetype": "text/x-python",
   "name": "python",
   "nbconvert_exporter": "python",
   "pygments_lexer": "ipython3",
   "version": "3.8.5"
  }
 },
 "nbformat": 4,
 "nbformat_minor": 5
}
