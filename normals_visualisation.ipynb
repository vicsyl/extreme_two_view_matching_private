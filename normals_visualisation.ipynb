{
 "cells": [
  {
   "cell_type": "code",
   "execution_count": 1,
   "id": "equipped-ceramic",
   "metadata": {},
   "outputs": [
    {
     "name": "stdout",
     "output_type": "stream",
     "text": [
      "Clustering: angle_distance_threshold: 30 degrees\n",
      "Clustering: angle_distance_inter_cluster_threshold_degrees: 75.0\n",
      "Clustering: distance_threshold: 0.5176380902050415\n",
      "Clustering: distance_inter_cluster_threshold: 1.2175228580174413\n",
      "Clustering: points_threshold: 20000\n",
      "Clustering: N_points: 300\n",
      "Loading weights for net_encoder\n",
      "Loading weights for net_decoder\n"
     ]
    }
   ],
   "source": [
    "import time\n",
    "\n",
    "import cv2 as cv\n",
    "import numpy as np\n",
    "import torch\n",
    "\n",
    "from config import Config\n",
    "\n",
    "from scene_info import read_cameras, read_images, SceneInfo, CameraEntry\n",
    "from image_processing import spatial_gradient_first_order\n",
    "from tests import *\n",
    "from utils import *\n",
    "from img_utils import show_and_save_normal_clusters_3d, show_point_cloud\n",
    "import matplotlib.pyplot as plt\n",
    "%matplotlib widget\n",
    "\n",
    "import clustering\n",
    "from pathlib import Path\n",
    "from clusters_map import clusters_map\n",
    "\n",
    "from depth_to_normals import *\n",
    "\n",
    "def visualize_normals(impl, old_impl=False):\n",
    "\n",
    "    Timer.start()\n",
    "    Config.log()\n",
    "\n",
    "    scene_name = \"scene1\"\n",
    "    scene_info = SceneInfo.read_scene(scene_name, lazy=True)\n",
    "    \n",
    "    file_names = ['frame_0000000650_2.npy',\n",
    "                  'frame_0000000310_2.npy',\n",
    "                  'frame_0000000165_4.npy',\n",
    "                  'frame_0000000350_2.npy',\n",
    "                  'frame_0000001285_2.npy',\n",
    "                  'frame_0000000010_3.npy', #'frame_0000000015_3.npy', \n",
    "                 #'frame_0000000015_4.npy', 'frame_0000000020_3.npy', \n",
    "                 #'frame_0000000020_4.npy', 'frame_0000000025_3.npy', \n",
    "                  #'frame_0000000025_4.npy', \n",
    "                  'frame_0000000030_1.npy', \n",
    "                  'frame_0000000030_2.npy', #'frame_0000000030_3.npy',\n",
    "                  'frame_0000000165_4.npy',\n",
    "                  'frame_0000000180_4.npy',\n",
    "                  'frame_0000000275_4.npy',\n",
    "                 ]\n",
    "    \n",
    "    file_names = file_names[:1]\n",
    "    \n",
    "    input_directory = \"depth_data/mega_depth/{}\".format(scene_name)\n",
    "\n",
    "\n",
    "    compute_normals_all(scene_info, \n",
    "                        file_names, \n",
    "                        input_directory,\n",
    "                        output_parent_dir=None, \n",
    "                        skip_existing=False, \n",
    "                        impl=impl,\n",
    "                        old_impl=old_impl)\n",
    "\n",
    "    Timer.end()\n"
   ]
  },
  {
   "cell_type": "code",
   "execution_count": 2,
   "id": "center-embassy",
   "metadata": {},
   "outputs": [
    {
     "data": {
      "application/vnd.jupyter.widget-view+json": {
       "model_id": "135b60b6f70548ad91606e9436a4f8a4",
       "version_major": 2,
       "version_minor": 0
      },
      "text/plain": [
       "Canvas(toolbar=Toolbar(toolitems=[('Home', 'Reset original view', 'home', 'home'), ('Back', 'Back to previous …"
      ]
     },
     "metadata": {},
     "output_type": "display_data"
    },
    {
     "data": {
      "application/vnd.jupyter.widget-view+json": {
       "model_id": "6862276ca41a48a69ba38338b70a406d",
       "version_major": 2,
       "version_minor": 0
      },
      "text/plain": [
       "Canvas(toolbar=Toolbar(toolitems=[('Home', 'Reset original view', 'home', 'home'), ('Back', 'Back to previous …"
      ]
     },
     "metadata": {},
     "output_type": "display_data"
    }
   ],
   "source": [
    "import clustering\n",
    "import clustering_test\n",
    "\n",
    "n = 3000\n",
    "points = clustering.n_points_across_sphere(n)\n",
    "clustering_test.show_3d_points(points)\n",
    "\n",
    "n = 300\n",
    "points = clustering.n_points_across_sphere(n)\n",
    "clustering_test.show_3d_points(points)\n"
   ]
  },
  {
   "cell_type": "code",
   "execution_count": 3,
   "id": "brutal-whole",
   "metadata": {
    "scrolled": false
   },
   "outputs": [
    {
     "name": "stdout",
     "output_type": "stream",
     "text": [
      "Config:\n",
      "  rectify: True,\n",
      "  do_flann: True,\n",
      "  key_planes_based_matching_merge_components: True,\n",
      "  show_normals_in_img: True,\n",
      "  show_sky_mask: True,\n",
      "  save_normals_in_img: False,\n",
      "  rectification_interpolation_key: 1,\n",
      "  config_map = {'rectify': True, 'do_flann': True, 'key_planes_based_matching_merge_components': True, 'show_normals_in_img': True, 'show_sky_mask': True, 'save_normals_in_img': False, 'rectification_interpolation_key': 1}\n",
      "  key_do_flann = do_flann\n",
      "  key_planes_based_matching_merge_components = key_planes_based_matching_merge_components\n",
      "  key_rectify = rectify\n",
      "  rectification_interpolation_key = rectification_interpolation_key\n",
      "  save_normals_in_img = save_normals_in_img\n",
      "  show_normals_in_img = show_normals_in_img\n",
      "  show_sky_mask = show_sky_mask\n",
      "  svd_smoothing = False\n",
      "  svd_smoothing_sigma = 1.33\n",
      "  svd_weighted = True\n",
      "  svd_weighted_sigma = 0.8\n",
      "\n",
      "scene=scene1, lazy=True\n",
      "file names:\n",
      "['frame_0000000650_2.npy']\n",
      "input dir:\n",
      "depth_data/mega_depth/scene1\n",
      "Processing: frame_0000000650_2.npy\n"
     ]
    },
    {
     "data": {
      "application/vnd.jupyter.widget-view+json": {
       "model_id": "013ba7947b3348febbd13ddd9ad376d2",
       "version_major": 2,
       "version_minor": 0
      },
      "text/plain": [
       "Canvas(toolbar=Toolbar(toolitems=[('Home', 'Reset original view', 'home', 'home'), ('Back', 'Back to previous …"
      ]
     },
     "metadata": {},
     "output_type": "display_data"
    },
    {
     "data": {
      "application/vnd.jupyter.widget-view+json": {
       "model_id": "d9999532d7f04501bc90cc97dca756b5",
       "version_major": 2,
       "version_minor": 0
      },
      "text/plain": [
       "Canvas(toolbar=Toolbar(toolitems=[('Home', 'Reset original view', 'home', 'home'), ('Back', 'Back to previous …"
      ]
     },
     "metadata": {},
     "output_type": "display_data"
    },
    {
     "name": "stderr",
     "output_type": "stream",
     "text": [
      "Clipping input data to the valid range for imshow with RGB data ([0..1] for floats or [0..255] for integers).\n"
     ]
    },
    {
     "data": {
      "application/vnd.jupyter.widget-view+json": {
       "model_id": "ed264be039a8459090beca36cdbbc13a",
       "version_major": 2,
       "version_minor": 0
      },
      "text/plain": [
       "Canvas(toolbar=Toolbar(toolitems=[('Home', 'Reset original view', 'home', 'home'), ('Back', 'Back to previous …"
      ]
     },
     "metadata": {},
     "output_type": "display_data"
    },
    {
     "name": "stdout",
     "output_type": "stream",
     "text": [
      "Done. Time elapsed from start: 7.8304., \n",
      "Statistics: \n",
      "reading scene info called 1 times and it took 1.1740 secs. on average\n",
      "sky masking called 1 times and it took 1.6043 secs. on average\n",
      "clustering for N=300 called 1 times and it took 4.1201 secs. on average\n",
      "clustering normals called 1 times and it took 4.1647 secs. on average\n"
     ]
    }
   ],
   "source": [
    "Config.config_map[Config.show_normals_in_img] = True\n",
    "Config.set_save(False)\n",
    "visualize_normals(impl=\"svd\")\n"
   ]
  },
  {
   "cell_type": "code",
   "execution_count": null,
   "id": "technological-delay",
   "metadata": {},
   "outputs": [],
   "source": []
  },
  {
   "cell_type": "code",
   "execution_count": null,
   "id": "round-method",
   "metadata": {},
   "outputs": [],
   "source": []
  }
 ],
 "metadata": {
  "kernelspec": {
   "display_name": "Python 3",
   "language": "python",
   "name": "python3"
  },
  "language_info": {
   "codemirror_mode": {
    "name": "ipython",
    "version": 3
   },
   "file_extension": ".py",
   "mimetype": "text/x-python",
   "name": "python",
   "nbconvert_exporter": "python",
   "pygments_lexer": "ipython3",
   "version": "3.8.5"
  }
 },
 "nbformat": 4,
 "nbformat_minor": 5
}
