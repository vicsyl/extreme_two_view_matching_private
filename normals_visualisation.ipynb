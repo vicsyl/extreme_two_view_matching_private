{
 "cells": [
  {
   "cell_type": "code",
   "execution_count": 1,
   "id": "equipped-ceramic",
   "metadata": {},
   "outputs": [],
   "source": [
    "\n",
    "import time\n",
    "\n",
    "import cv2 as cv\n",
    "import numpy as np\n",
    "import torch\n",
    "\n",
    "from config import Config\n",
    "\n",
    "from scene_info import read_cameras, read_images, SceneInfo, CameraEntry\n",
    "from image_processing import spatial_gradient_first_order\n",
    "from tests import *\n",
    "from utils import *\n",
    "from img_utils import show_and_save_normal_clusters, show_point_cloud\n",
    "import matplotlib.pyplot as plt\n",
    "%matplotlib widget\n",
    "\n",
    "import spherical_kmeans\n",
    "from pathlib import Path\n",
    "from clusters_map import clusters_map\n",
    "\n",
    "from depth_to_normals import *\n",
    "\n",
    "def visualize_normals(impl, old_impl=False):\n",
    "\n",
    "    Timer.start()\n",
    "    Config.log()\n",
    "\n",
    "    scene_name = \"scene1\"\n",
    "    scene_info = SceneInfo.read_scene(scene_name, lazy=True)\n",
    "    \n",
    "    file_names = ['frame_0000000010_3.npy', # 'frame_0000000015_3.npy', \n",
    "                  'frame_0000000015_4.npy', #'frame_0000000020_3.npy', \n",
    "                   'frame_0000000020_4.npy', #'frame_0000000025_3.npy', \n",
    "#                   'frame_0000000025_4.npy', 'frame_0000000030_1.npy', \n",
    "#                   'frame_0000000030_2.npy', 'frame_0000000030_3.npy',\n",
    "                 ]\n",
    "    input_directory = \"depth_data/mega_depth/{}\".format(scene_name)\n",
    "\n",
    "    \n",
    "    compute_normals_all(scene_info, \n",
    "                        file_names, \n",
    "                        input_directory,\n",
    "                        save=False, \n",
    "                        output_parent_dir=None, \n",
    "                        skip_existing=False, \n",
    "                        impl=impl,\n",
    "                        old_impl=old_impl)\n",
    "\n",
    "    Timer.end()\n"
   ]
  },
  {
   "cell_type": "code",
   "execution_count": 2,
   "id": "brutal-whole",
   "metadata": {
    "scrolled": false
   },
   "outputs": [
    {
     "name": "stdout",
     "output_type": "stream",
     "text": [
      "Starting the timer\n",
      "Config:\n",
      "  rectify: True,\n",
      "  do_flann: True,\n",
      "  key_planes_based_matching_merge_components: True,\n",
      "  show_normals_in_img: True,\n",
      "  config_map = {'rectify': True, 'do_flann': True, 'key_planes_based_matching_merge_components': True, 'show_normals_in_img': True}\n",
      "  key_do_flann = do_flann\n",
      "  key_planes_based_matching_merge_components = key_planes_based_matching_merge_components\n",
      "  key_rectify = rectify\n",
      "  show_normals_in_img = show_normals_in_img\n",
      "  svd_smoothing = False\n",
      "  svd_smoothing_sigma = 1.33\n",
      "  svd_weighted = True\n",
      "  svd_weighted_sigma = 0.8\n",
      "\n",
      "reading scene info starting\n",
      "scene=scene1, lazy=True\n",
      "reading scene info finished. It took 1.2091619968414307\n",
      "file names:\n",
      "['frame_0000000010_3.npy', 'frame_0000000015_4.npy', 'frame_0000000020_4.npy']\n",
      "input dir:\n",
      "depth_data/mega_depth/scene1\n",
      "Processing: frame_0000000010_3.npy\n",
      "using svd\n",
      "WARNING: number of clusters unknown for frame_0000000010_3.npy, defaulting to 2 ...\n"
     ]
    },
    {
     "data": {
      "application/vnd.jupyter.widget-view+json": {
       "model_id": "930098b5e41e419989180baf04c2eeac",
       "version_major": 2,
       "version_minor": 0
      },
      "text/plain": [
       "Canvas(toolbar=Toolbar(toolitems=[('Home', 'Reset original view', 'home', 'home'), ('Back', 'Back to previous …"
      ]
     },
     "metadata": {},
     "output_type": "display_data"
    },
    {
     "name": "stdout",
     "output_type": "stream",
     "text": [
      "clustering normals starting\n",
      "clustering normals finished. It took 0.6310107707977295\n",
      "show loc: True\n"
     ]
    },
    {
     "data": {
      "application/vnd.jupyter.widget-view+json": {
       "model_id": "50ba56b1b9d345e2900032ea51359acb",
       "version_major": 2,
       "version_minor": 0
      },
      "text/plain": [
       "Canvas(toolbar=Toolbar(toolitems=[('Home', 'Reset original view', 'home', 'home'), ('Back', 'Back to previous …"
      ]
     },
     "metadata": {},
     "output_type": "display_data"
    },
    {
     "name": "stderr",
     "output_type": "stream",
     "text": [
      "Clipping input data to the valid range for imshow with RGB data ([0..1] for floats or [0..255] for integers).\n"
     ]
    },
    {
     "data": {
      "application/vnd.jupyter.widget-view+json": {
       "model_id": "08a48c0d0ef6427a8149559185858401",
       "version_major": 2,
       "version_minor": 0
      },
      "text/plain": [
       "Canvas(toolbar=Toolbar(toolitems=[('Home', 'Reset original view', 'home', 'home'), ('Back', 'Back to previous …"
      ]
     },
     "metadata": {},
     "output_type": "display_data"
    },
    {
     "name": "stdout",
     "output_type": "stream",
     "text": [
      "angle between normal 0 and 1: 84.03368200031029 degrees\n",
      "Processing: frame_0000000015_4.npy\n",
      "using svd\n",
      "WARNING: number of clusters unknown for frame_0000000015_4.npy, defaulting to 2 ...\n"
     ]
    },
    {
     "data": {
      "application/vnd.jupyter.widget-view+json": {
       "model_id": "5475e5b0a37b4e6c85b90b83109db875",
       "version_major": 2,
       "version_minor": 0
      },
      "text/plain": [
       "Canvas(toolbar=Toolbar(toolitems=[('Home', 'Reset original view', 'home', 'home'), ('Back', 'Back to previous …"
      ]
     },
     "metadata": {},
     "output_type": "display_data"
    },
    {
     "name": "stdout",
     "output_type": "stream",
     "text": [
      "clustering normals starting\n",
      "clustering normals finished. It took 0.530627965927124\n",
      "show loc: True\n"
     ]
    },
    {
     "data": {
      "application/vnd.jupyter.widget-view+json": {
       "model_id": "54bbc8aaec9a46998c050de3db3df5e6",
       "version_major": 2,
       "version_minor": 0
      },
      "text/plain": [
       "Canvas(toolbar=Toolbar(toolitems=[('Home', 'Reset original view', 'home', 'home'), ('Back', 'Back to previous …"
      ]
     },
     "metadata": {},
     "output_type": "display_data"
    },
    {
     "name": "stderr",
     "output_type": "stream",
     "text": [
      "Clipping input data to the valid range for imshow with RGB data ([0..1] for floats or [0..255] for integers).\n"
     ]
    },
    {
     "data": {
      "application/vnd.jupyter.widget-view+json": {
       "model_id": "f3d0d9f5f1d7480980a3dc9a1ac39339",
       "version_major": 2,
       "version_minor": 0
      },
      "text/plain": [
       "Canvas(toolbar=Toolbar(toolitems=[('Home', 'Reset original view', 'home', 'home'), ('Back', 'Back to previous …"
      ]
     },
     "metadata": {},
     "output_type": "display_data"
    },
    {
     "name": "stdout",
     "output_type": "stream",
     "text": [
      "angle between normal 0 and 1: 84.61011581531352 degrees\n",
      "Processing: frame_0000000020_4.npy\n",
      "using svd\n",
      "WARNING: number of clusters unknown for frame_0000000020_4.npy, defaulting to 2 ...\n"
     ]
    },
    {
     "data": {
      "application/vnd.jupyter.widget-view+json": {
       "model_id": "4f18171ac61847a39f59358383290619",
       "version_major": 2,
       "version_minor": 0
      },
      "text/plain": [
       "Canvas(toolbar=Toolbar(toolitems=[('Home', 'Reset original view', 'home', 'home'), ('Back', 'Back to previous …"
      ]
     },
     "metadata": {},
     "output_type": "display_data"
    },
    {
     "name": "stdout",
     "output_type": "stream",
     "text": [
      "clustering normals starting\n",
      "clustering normals finished. It took 0.35684895515441895\n",
      "show loc: True\n"
     ]
    },
    {
     "data": {
      "application/vnd.jupyter.widget-view+json": {
       "model_id": "0c3eb1f41ea34386aca2e2c2e7f65237",
       "version_major": 2,
       "version_minor": 0
      },
      "text/plain": [
       "Canvas(toolbar=Toolbar(toolitems=[('Home', 'Reset original view', 'home', 'home'), ('Back', 'Back to previous …"
      ]
     },
     "metadata": {},
     "output_type": "display_data"
    },
    {
     "name": "stderr",
     "output_type": "stream",
     "text": [
      "Clipping input data to the valid range for imshow with RGB data ([0..1] for floats or [0..255] for integers).\n"
     ]
    },
    {
     "data": {
      "application/vnd.jupyter.widget-view+json": {
       "model_id": "26a976a69c2141bfaf552579119ce3f8",
       "version_major": 2,
       "version_minor": 0
      },
      "text/plain": [
       "Canvas(toolbar=Toolbar(toolitems=[('Home', 'Reset original view', 'home', 'home'), ('Back', 'Back to previous …"
      ]
     },
     "metadata": {},
     "output_type": "display_data"
    },
    {
     "name": "stdout",
     "output_type": "stream",
     "text": [
      "angle between normal 0 and 1: 86.41698771872703 degrees\n",
      "Done. Time elapsed from start: 5.1912., \n",
      "Statistics: \n",
      "reading scene info called 1 times and it took 1.2092 secs. on average\n",
      "clustering normals called 3 times and it took 0.5062 secs. on average\n"
     ]
    }
   ],
   "source": [
    "Config.config_map[Config.show_normals_in_img] = True\n",
    "\n",
    "visualize_normals(impl=\"svd\")"
   ]
  },
  {
   "cell_type": "code",
   "execution_count": 3,
   "id": "authentic-cinema",
   "metadata": {
    "scrolled": false
   },
   "outputs": [
    {
     "name": "stdout",
     "output_type": "stream",
     "text": [
      "Starting the timer\n",
      "Config:\n",
      "  rectify: True,\n",
      "  do_flann: True,\n",
      "  key_planes_based_matching_merge_components: True,\n",
      "  show_normals_in_img: True,\n",
      "  config_map = {'rectify': True, 'do_flann': True, 'key_planes_based_matching_merge_components': True, 'show_normals_in_img': True}\n",
      "  key_do_flann = do_flann\n",
      "  key_planes_based_matching_merge_components = key_planes_based_matching_merge_components\n",
      "  key_rectify = rectify\n",
      "  show_normals_in_img = show_normals_in_img\n",
      "  svd_smoothing = False\n",
      "  svd_smoothing_sigma = 1.33\n",
      "  svd_weighted = True\n",
      "  svd_weighted_sigma = 0.8\n",
      "\n",
      "reading scene info starting\n",
      "scene=scene1, lazy=True\n",
      "reading scene info finished. It took 1.1776440143585205\n",
      "file names:\n",
      "['frame_0000000010_3.npy', 'frame_0000000015_4.npy', 'frame_0000000020_4.npy']\n",
      "input dir:\n",
      "depth_data/mega_depth/scene1\n",
      "Processing: frame_0000000010_3.npy\n",
      "using conv mask\n",
      "Creating dir (if not exists already): None/frame_0000000010_3\n",
      "WARNING: number of clusters unknown for frame_0000000010_3.npy, defaulting to 2 ...\n"
     ]
    },
    {
     "data": {
      "application/vnd.jupyter.widget-view+json": {
       "model_id": "f6626ec32b684ad684d205bedceec8c8",
       "version_major": 2,
       "version_minor": 0
      },
      "text/plain": [
       "Canvas(toolbar=Toolbar(toolitems=[('Home', 'Reset original view', 'home', 'home'), ('Back', 'Back to previous …"
      ]
     },
     "metadata": {},
     "output_type": "display_data"
    },
    {
     "name": "stdout",
     "output_type": "stream",
     "text": [
      "clustering normals starting\n",
      "clustering normals finished. It took 0.6381268501281738\n",
      "show loc: True\n"
     ]
    },
    {
     "data": {
      "application/vnd.jupyter.widget-view+json": {
       "model_id": "f8b97c27638e4caabd2e20794e585b34",
       "version_major": 2,
       "version_minor": 0
      },
      "text/plain": [
       "Canvas(toolbar=Toolbar(toolitems=[('Home', 'Reset original view', 'home', 'home'), ('Back', 'Back to previous …"
      ]
     },
     "metadata": {},
     "output_type": "display_data"
    },
    {
     "name": "stderr",
     "output_type": "stream",
     "text": [
      "Clipping input data to the valid range for imshow with RGB data ([0..1] for floats or [0..255] for integers).\n"
     ]
    },
    {
     "data": {
      "application/vnd.jupyter.widget-view+json": {
       "model_id": "c40e373da4e54f499e26fd33c6b49e03",
       "version_major": 2,
       "version_minor": 0
      },
      "text/plain": [
       "Canvas(toolbar=Toolbar(toolitems=[('Home', 'Reset original view', 'home', 'home'), ('Back', 'Back to previous …"
      ]
     },
     "metadata": {},
     "output_type": "display_data"
    },
    {
     "name": "stdout",
     "output_type": "stream",
     "text": [
      "angle between normal 0 and 1: 89.72027893720947 degrees\n",
      "Processing: frame_0000000015_4.npy\n",
      "using conv mask\n",
      "Creating dir (if not exists already): None/frame_0000000015_4\n",
      "WARNING: number of clusters unknown for frame_0000000015_4.npy, defaulting to 2 ...\n"
     ]
    },
    {
     "name": "stderr",
     "output_type": "stream",
     "text": [
      "/Users/vaclav/ownCloud/diploma_thesis/project/depth_to_normals.py:96: RuntimeWarning: invalid value encountered in true_divide\n",
      "  unit_rotation_vector = rotation_vector[:, :, 0, :] / rotation_vector_norm\n"
     ]
    },
    {
     "data": {
      "application/vnd.jupyter.widget-view+json": {
       "model_id": "789c1406b79e45b28fbbfb1da91fb284",
       "version_major": 2,
       "version_minor": 0
      },
      "text/plain": [
       "Canvas(toolbar=Toolbar(toolitems=[('Home', 'Reset original view', 'home', 'home'), ('Back', 'Back to previous …"
      ]
     },
     "metadata": {},
     "output_type": "display_data"
    },
    {
     "name": "stdout",
     "output_type": "stream",
     "text": [
      "clustering normals starting\n",
      "clustering normals finished. It took 0.6278171539306641\n",
      "show loc: True\n"
     ]
    },
    {
     "data": {
      "application/vnd.jupyter.widget-view+json": {
       "model_id": "cdc6f48a72064287a0c1e679fb2a9f28",
       "version_major": 2,
       "version_minor": 0
      },
      "text/plain": [
       "Canvas(toolbar=Toolbar(toolitems=[('Home', 'Reset original view', 'home', 'home'), ('Back', 'Back to previous …"
      ]
     },
     "metadata": {},
     "output_type": "display_data"
    },
    {
     "name": "stderr",
     "output_type": "stream",
     "text": [
      "Clipping input data to the valid range for imshow with RGB data ([0..1] for floats or [0..255] for integers).\n"
     ]
    },
    {
     "data": {
      "application/vnd.jupyter.widget-view+json": {
       "model_id": "8240df6305d14bf9a0c9693929e8f43c",
       "version_major": 2,
       "version_minor": 0
      },
      "text/plain": [
       "Canvas(toolbar=Toolbar(toolitems=[('Home', 'Reset original view', 'home', 'home'), ('Back', 'Back to previous …"
      ]
     },
     "metadata": {},
     "output_type": "display_data"
    },
    {
     "name": "stdout",
     "output_type": "stream",
     "text": [
      "angle between normal 0 and 1: 84.83028013301971 degrees\n",
      "Processing: frame_0000000020_4.npy\n",
      "using conv mask\n",
      "Creating dir (if not exists already): None/frame_0000000020_4\n",
      "WARNING: number of clusters unknown for frame_0000000020_4.npy, defaulting to 2 ...\n"
     ]
    },
    {
     "name": "stderr",
     "output_type": "stream",
     "text": [
      "/Users/vaclav/ownCloud/diploma_thesis/project/depth_to_normals.py:96: RuntimeWarning: invalid value encountered in true_divide\n",
      "  unit_rotation_vector = rotation_vector[:, :, 0, :] / rotation_vector_norm\n"
     ]
    },
    {
     "data": {
      "application/vnd.jupyter.widget-view+json": {
       "model_id": "16848f8954914210820146fe20903b67",
       "version_major": 2,
       "version_minor": 0
      },
      "text/plain": [
       "Canvas(toolbar=Toolbar(toolitems=[('Home', 'Reset original view', 'home', 'home'), ('Back', 'Back to previous …"
      ]
     },
     "metadata": {},
     "output_type": "display_data"
    },
    {
     "name": "stdout",
     "output_type": "stream",
     "text": [
      "clustering normals starting\n",
      "clustering normals finished. It took 0.6404788494110107\n",
      "show loc: True\n"
     ]
    },
    {
     "data": {
      "application/vnd.jupyter.widget-view+json": {
       "model_id": "e5d070942d7f40e9876f487d6e832401",
       "version_major": 2,
       "version_minor": 0
      },
      "text/plain": [
       "Canvas(toolbar=Toolbar(toolitems=[('Home', 'Reset original view', 'home', 'home'), ('Back', 'Back to previous …"
      ]
     },
     "metadata": {},
     "output_type": "display_data"
    },
    {
     "name": "stderr",
     "output_type": "stream",
     "text": [
      "Clipping input data to the valid range for imshow with RGB data ([0..1] for floats or [0..255] for integers).\n"
     ]
    },
    {
     "data": {
      "application/vnd.jupyter.widget-view+json": {
       "model_id": "9171bf76c2f24a23a76d1d3397b9d8c6",
       "version_major": 2,
       "version_minor": 0
      },
      "text/plain": [
       "Canvas(toolbar=Toolbar(toolitems=[('Home', 'Reset original view', 'home', 'home'), ('Back', 'Back to previous …"
      ]
     },
     "metadata": {},
     "output_type": "display_data"
    },
    {
     "name": "stdout",
     "output_type": "stream",
     "text": [
      "angle between normal 0 and 1: 84.19308495516005 degrees\n",
      "Done. Time elapsed from start: 4.6463., \n",
      "Statistics: \n",
      "reading scene info called 2 times and it took 1.1934 secs. on average\n",
      "clustering normals called 6 times and it took 0.5708 secs. on average\n"
     ]
    }
   ],
   "source": [
    "Config.config_map[Config.show_normals_in_img] = True\n",
    "visualize_normals(impl=\"conv_mask\")"
   ]
  },
  {
   "cell_type": "code",
   "execution_count": 4,
   "id": "american-brother",
   "metadata": {
    "scrolled": false
   },
   "outputs": [
    {
     "name": "stdout",
     "output_type": "stream",
     "text": [
      "Starting the timer\n",
      "Config:\n",
      "  rectify: True,\n",
      "  do_flann: True,\n",
      "  key_planes_based_matching_merge_components: True,\n",
      "  show_normals_in_img: True,\n",
      "  config_map = {'rectify': True, 'do_flann': True, 'key_planes_based_matching_merge_components': True, 'show_normals_in_img': True}\n",
      "  key_do_flann = do_flann\n",
      "  key_planes_based_matching_merge_components = key_planes_based_matching_merge_components\n",
      "  key_rectify = rectify\n",
      "  show_normals_in_img = show_normals_in_img\n",
      "  svd_smoothing = False\n",
      "  svd_smoothing_sigma = 1.33\n",
      "  svd_weighted = True\n",
      "  svd_weighted_sigma = 0.8\n",
      "\n",
      "reading scene info starting\n",
      "scene=scene1, lazy=True\n",
      "reading scene info finished. It took 1.1195778846740723\n",
      "file names:\n",
      "['frame_0000000010_3.npy', 'frame_0000000015_4.npy', 'frame_0000000020_4.npy']\n",
      "input dir:\n",
      "depth_data/mega_depth/scene1\n",
      "Processing: frame_0000000010_3.npy\n",
      "using conv mask\n",
      "Creating dir (if not exists already): None/frame_0000000010_3\n",
      "WARNING: number of clusters unknown for frame_0000000010_3.npy, defaulting to 2 ...\n"
     ]
    },
    {
     "data": {
      "application/vnd.jupyter.widget-view+json": {
       "model_id": "b0b3f527a6e8463d972a71f9446472fe",
       "version_major": 2,
       "version_minor": 0
      },
      "text/plain": [
       "Canvas(toolbar=Toolbar(toolitems=[('Home', 'Reset original view', 'home', 'home'), ('Back', 'Back to previous …"
      ]
     },
     "metadata": {},
     "output_type": "display_data"
    },
    {
     "name": "stdout",
     "output_type": "stream",
     "text": [
      "clustering normals starting\n",
      "clustering normals finished. It took 0.6371979713439941\n",
      "show loc: True\n"
     ]
    },
    {
     "data": {
      "application/vnd.jupyter.widget-view+json": {
       "model_id": "baf973bea47d4273b41ee63569884ab0",
       "version_major": 2,
       "version_minor": 0
      },
      "text/plain": [
       "Canvas(toolbar=Toolbar(toolitems=[('Home', 'Reset original view', 'home', 'home'), ('Back', 'Back to previous …"
      ]
     },
     "metadata": {},
     "output_type": "display_data"
    },
    {
     "name": "stderr",
     "output_type": "stream",
     "text": [
      "Clipping input data to the valid range for imshow with RGB data ([0..1] for floats or [0..255] for integers).\n",
      "/Users/vaclav/ownCloud/diploma_thesis/project/img_utils.py:31: RuntimeWarning: More than 20 figures have been opened. Figures created through the pyplot interface (`matplotlib.pyplot.figure`) are retained until explicitly closed and may consume too much memory. (To control this warning, see the rcParam `figure.max_open_warning`).\n",
      "  fig = plt.figure()\n"
     ]
    },
    {
     "data": {
      "application/vnd.jupyter.widget-view+json": {
       "model_id": "e8515a34b0be4b27b130ec03bca0f6e7",
       "version_major": 2,
       "version_minor": 0
      },
      "text/plain": [
       "Canvas(toolbar=Toolbar(toolitems=[('Home', 'Reset original view', 'home', 'home'), ('Back', 'Back to previous …"
      ]
     },
     "metadata": {},
     "output_type": "display_data"
    },
    {
     "name": "stdout",
     "output_type": "stream",
     "text": [
      "angle between normal 0 and 1: 64.18038480021256 degrees\n",
      "Processing: frame_0000000015_4.npy\n",
      "using conv mask\n",
      "Creating dir (if not exists already): None/frame_0000000015_4\n",
      "WARNING: number of clusters unknown for frame_0000000015_4.npy, defaulting to 2 ...\n"
     ]
    },
    {
     "data": {
      "application/vnd.jupyter.widget-view+json": {
       "model_id": "093020c68bb9449db0bdd0119f14b7f8",
       "version_major": 2,
       "version_minor": 0
      },
      "text/plain": [
       "Canvas(toolbar=Toolbar(toolitems=[('Home', 'Reset original view', 'home', 'home'), ('Back', 'Back to previous …"
      ]
     },
     "metadata": {},
     "output_type": "display_data"
    },
    {
     "name": "stdout",
     "output_type": "stream",
     "text": [
      "clustering normals starting\n",
      "clustering normals finished. It took 0.578916072845459\n",
      "show loc: True\n"
     ]
    },
    {
     "data": {
      "application/vnd.jupyter.widget-view+json": {
       "model_id": "4caf936e1d394dd8871a7eb6785d418d",
       "version_major": 2,
       "version_minor": 0
      },
      "text/plain": [
       "Canvas(toolbar=Toolbar(toolitems=[('Home', 'Reset original view', 'home', 'home'), ('Back', 'Back to previous …"
      ]
     },
     "metadata": {},
     "output_type": "display_data"
    },
    {
     "name": "stderr",
     "output_type": "stream",
     "text": [
      "Clipping input data to the valid range for imshow with RGB data ([0..1] for floats or [0..255] for integers).\n"
     ]
    },
    {
     "data": {
      "application/vnd.jupyter.widget-view+json": {
       "model_id": "5f4c79448ae5473490b78f06e8666cc1",
       "version_major": 2,
       "version_minor": 0
      },
      "text/plain": [
       "Canvas(toolbar=Toolbar(toolitems=[('Home', 'Reset original view', 'home', 'home'), ('Back', 'Back to previous …"
      ]
     },
     "metadata": {},
     "output_type": "display_data"
    },
    {
     "name": "stdout",
     "output_type": "stream",
     "text": [
      "angle between normal 0 and 1: 71.4048466400643 degrees\n",
      "Processing: frame_0000000020_4.npy\n",
      "using conv mask\n",
      "Creating dir (if not exists already): None/frame_0000000020_4\n",
      "WARNING: number of clusters unknown for frame_0000000020_4.npy, defaulting to 2 ...\n"
     ]
    },
    {
     "data": {
      "application/vnd.jupyter.widget-view+json": {
       "model_id": "9b74b52b471a4235872a6f643d85ca1e",
       "version_major": 2,
       "version_minor": 0
      },
      "text/plain": [
       "Canvas(toolbar=Toolbar(toolitems=[('Home', 'Reset original view', 'home', 'home'), ('Back', 'Back to previous …"
      ]
     },
     "metadata": {},
     "output_type": "display_data"
    },
    {
     "name": "stdout",
     "output_type": "stream",
     "text": [
      "clustering normals starting\n",
      "clustering normals finished. It took 0.6397020816802979\n",
      "show loc: True\n"
     ]
    },
    {
     "data": {
      "application/vnd.jupyter.widget-view+json": {
       "model_id": "61ad906023904a68a0d3783ad62b672f",
       "version_major": 2,
       "version_minor": 0
      },
      "text/plain": [
       "Canvas(toolbar=Toolbar(toolitems=[('Home', 'Reset original view', 'home', 'home'), ('Back', 'Back to previous …"
      ]
     },
     "metadata": {},
     "output_type": "display_data"
    },
    {
     "name": "stderr",
     "output_type": "stream",
     "text": [
      "Clipping input data to the valid range for imshow with RGB data ([0..1] for floats or [0..255] for integers).\n"
     ]
    },
    {
     "data": {
      "application/vnd.jupyter.widget-view+json": {
       "model_id": "349219452ee34e56810aeb35a548aac1",
       "version_major": 2,
       "version_minor": 0
      },
      "text/plain": [
       "Canvas(toolbar=Toolbar(toolitems=[('Home', 'Reset original view', 'home', 'home'), ('Back', 'Back to previous …"
      ]
     },
     "metadata": {},
     "output_type": "display_data"
    },
    {
     "name": "stdout",
     "output_type": "stream",
     "text": [
      "angle between normal 0 and 1: 68.05912628645774 degrees\n",
      "Done. Time elapsed from start: 4.1428., \n",
      "Statistics: \n",
      "reading scene info called 3 times and it took 1.1688 secs. on average\n",
      "clustering normals called 9 times and it took 0.5867 secs. on average\n"
     ]
    }
   ],
   "source": [
    "Config.config_map[Config.show_normals_in_img] = True\n",
    "visualize_normals(impl=\"conv_mask\", old_impl=True)"
   ]
  },
  {
   "cell_type": "code",
   "execution_count": null,
   "id": "adjusted-kansas",
   "metadata": {},
   "outputs": [],
   "source": []
  }
 ],
 "metadata": {
  "kernelspec": {
   "display_name": "Python 3",
   "language": "python",
   "name": "python3"
  },
  "language_info": {
   "codemirror_mode": {
    "name": "ipython",
    "version": 3
   },
   "file_extension": ".py",
   "mimetype": "text/x-python",
   "name": "python",
   "nbconvert_exporter": "python",
   "pygments_lexer": "ipython3",
   "version": "3.8.5"
  }
 },
 "nbformat": 4,
 "nbformat_minor": 5
}
