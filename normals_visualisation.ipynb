{
 "cells": [
  {
   "cell_type": "code",
   "execution_count": 1,
   "id": "equipped-ceramic",
   "metadata": {},
   "outputs": [],
   "source": [
    "\n",
    "import time\n",
    "\n",
    "import cv2 as cv\n",
    "import numpy as np\n",
    "import torch\n",
    "\n",
    "from config import Config\n",
    "\n",
    "from scene_info import read_cameras, read_images, SceneInfo, CameraEntry\n",
    "from image_processing import spatial_gradient_first_order\n",
    "from tests import *\n",
    "from utils import *\n",
    "from img_utils import show_and_save_normal_clusters, show_point_cloud\n",
    "import matplotlib.pyplot as plt\n",
    "%matplotlib widget\n",
    "\n",
    "import spherical_kmeans\n",
    "from pathlib import Path\n",
    "from clusters_map import clusters_map\n",
    "\n",
    "from depth_to_normals import *\n",
    "\n",
    "def visualize_normals(impl, old_impl=False):\n",
    "\n",
    "    Timer.start()\n",
    "    Config.log()\n",
    "\n",
    "    scene_name = \"scene1\"\n",
    "    scene_info = SceneInfo.read_scene(scene_name, lazy=True)\n",
    "    \n",
    "    file_names = ['frame_0000000010_3.npy', # 'frame_0000000015_3.npy', \n",
    "                  'frame_0000000015_4.npy', #'frame_0000000020_3.npy', \n",
    "                   'frame_0000000020_4.npy', #'frame_0000000025_3.npy', \n",
    "#                   'frame_0000000025_4.npy', 'frame_0000000030_1.npy', \n",
    "#                   'frame_0000000030_2.npy', 'frame_0000000030_3.npy',\n",
    "                 ]\n",
    "    input_directory = \"depth_data/mega_depth/{}\".format(scene_name)\n",
    "\n",
    "    \n",
    "    compute_normals_all(scene_info, \n",
    "                        file_names, \n",
    "                        input_directory,\n",
    "                        save=False, \n",
    "                        output_parent_dir=None, \n",
    "                        skip_existing=False, \n",
    "                        impl=impl,\n",
    "                        old_impl=old_impl)\n",
    "\n",
    "    Timer.end()\n"
   ]
  },
  {
   "cell_type": "code",
   "execution_count": 2,
   "id": "brutal-whole",
   "metadata": {
    "scrolled": false
   },
   "outputs": [
    {
     "name": "stdout",
     "output_type": "stream",
     "text": [
      "Starting the timer\n",
      "Config:\n",
      "  rectify: True,\n",
      "  do_flann: True,\n",
      "  key_planes_based_matching_merge_components: True,\n",
      "  show_normals_in_img: True,\n",
      "  config_map = {'rectify': True, 'do_flann': True, 'key_planes_based_matching_merge_components': True, 'show_normals_in_img': True}\n",
      "  key_do_flann = do_flann\n",
      "  key_planes_based_matching_merge_components = key_planes_based_matching_merge_components\n",
      "  key_rectify = rectify\n",
      "  show_normals_in_img = show_normals_in_img\n",
      "  svd_smoothing = False\n",
      "  svd_smoothing_sigma = 1.33\n",
      "  svd_weighted = True\n",
      "  svd_weighted_sigma = 0.8\n",
      "\n",
      "reading scene info starting\n",
      "scene=scene1, lazy=True\n",
      "reading scene info finished. It took 1.202394962310791\n",
      "file names:\n",
      "['frame_0000000010_3.npy', 'frame_0000000015_4.npy', 'frame_0000000020_4.npy']\n",
      "input dir:\n",
      "depth_data/mega_depth/scene1\n",
      "Processing: frame_0000000010_3.npy\n",
      "using svd\n",
      "WARNING: number of clusters unknown for frame_0000000010_3.npy, defaulting to 2 ...\n"
     ]
    },
    {
     "data": {
      "application/vnd.jupyter.widget-view+json": {
       "model_id": "4b26d44799aa4695a16da5efce50469f",
       "version_major": 2,
       "version_minor": 0
      },
      "text/plain": [
       "Canvas(toolbar=Toolbar(toolitems=[('Home', 'Reset original view', 'home', 'home'), ('Back', 'Back to previous …"
      ]
     },
     "metadata": {},
     "output_type": "display_data"
    },
    {
     "name": "stdout",
     "output_type": "stream",
     "text": [
      "clustering normals starting\n",
      "clustering normals finished. It took 0.6045989990234375\n",
      "show loc: True\n"
     ]
    },
    {
     "data": {
      "application/vnd.jupyter.widget-view+json": {
       "model_id": "a8afde9fc88d4f9cb9fc7a1392117d01",
       "version_major": 2,
       "version_minor": 0
      },
      "text/plain": [
       "Canvas(toolbar=Toolbar(toolitems=[('Home', 'Reset original view', 'home', 'home'), ('Back', 'Back to previous …"
      ]
     },
     "metadata": {},
     "output_type": "display_data"
    },
    {
     "name": "stderr",
     "output_type": "stream",
     "text": [
      "Clipping input data to the valid range for imshow with RGB data ([0..1] for floats or [0..255] for integers).\n"
     ]
    },
    {
     "data": {
      "application/vnd.jupyter.widget-view+json": {
       "model_id": "e90f40723e074b96969ecc1843e6880e",
       "version_major": 2,
       "version_minor": 0
      },
      "text/plain": [
       "Canvas(toolbar=Toolbar(toolitems=[('Home', 'Reset original view', 'home', 'home'), ('Back', 'Back to previous …"
      ]
     },
     "metadata": {},
     "output_type": "display_data"
    },
    {
     "name": "stdout",
     "output_type": "stream",
     "text": [
      "angle between normal 0 and 1: 83.40687554017822 degrees\n",
      "Processing: frame_0000000015_4.npy\n",
      "using svd\n",
      "WARNING: number of clusters unknown for frame_0000000015_4.npy, defaulting to 2 ...\n"
     ]
    },
    {
     "data": {
      "application/vnd.jupyter.widget-view+json": {
       "model_id": "ac6055903b2d45718ca9728e6bb6d1d0",
       "version_major": 2,
       "version_minor": 0
      },
      "text/plain": [
       "Canvas(toolbar=Toolbar(toolitems=[('Home', 'Reset original view', 'home', 'home'), ('Back', 'Back to previous …"
      ]
     },
     "metadata": {},
     "output_type": "display_data"
    },
    {
     "name": "stdout",
     "output_type": "stream",
     "text": [
      "clustering normals starting\n",
      "clustering normals finished. It took 0.5196280479431152\n",
      "show loc: True\n"
     ]
    },
    {
     "data": {
      "application/vnd.jupyter.widget-view+json": {
       "model_id": "97e7f9bb5ec94ae5b1c408a2c493f438",
       "version_major": 2,
       "version_minor": 0
      },
      "text/plain": [
       "Canvas(toolbar=Toolbar(toolitems=[('Home', 'Reset original view', 'home', 'home'), ('Back', 'Back to previous …"
      ]
     },
     "metadata": {},
     "output_type": "display_data"
    },
    {
     "name": "stderr",
     "output_type": "stream",
     "text": [
      "Clipping input data to the valid range for imshow with RGB data ([0..1] for floats or [0..255] for integers).\n"
     ]
    },
    {
     "data": {
      "application/vnd.jupyter.widget-view+json": {
       "model_id": "2cb04a81a5c74e3c969282f2d005c801",
       "version_major": 2,
       "version_minor": 0
      },
      "text/plain": [
       "Canvas(toolbar=Toolbar(toolitems=[('Home', 'Reset original view', 'home', 'home'), ('Back', 'Back to previous …"
      ]
     },
     "metadata": {},
     "output_type": "display_data"
    },
    {
     "name": "stdout",
     "output_type": "stream",
     "text": [
      "angle between normal 0 and 1: 83.89177115992493 degrees\n",
      "Processing: frame_0000000020_4.npy\n",
      "using svd\n",
      "WARNING: number of clusters unknown for frame_0000000020_4.npy, defaulting to 2 ...\n"
     ]
    },
    {
     "data": {
      "application/vnd.jupyter.widget-view+json": {
       "model_id": "9586180e3fb943e980176cbab99505be",
       "version_major": 2,
       "version_minor": 0
      },
      "text/plain": [
       "Canvas(toolbar=Toolbar(toolitems=[('Home', 'Reset original view', 'home', 'home'), ('Back', 'Back to previous …"
      ]
     },
     "metadata": {},
     "output_type": "display_data"
    },
    {
     "name": "stdout",
     "output_type": "stream",
     "text": [
      "clustering normals starting\n",
      "clustering normals finished. It took 0.31577181816101074\n",
      "show loc: True\n"
     ]
    },
    {
     "data": {
      "application/vnd.jupyter.widget-view+json": {
       "model_id": "f534aaec8d104d28a403b0224d7fed86",
       "version_major": 2,
       "version_minor": 0
      },
      "text/plain": [
       "Canvas(toolbar=Toolbar(toolitems=[('Home', 'Reset original view', 'home', 'home'), ('Back', 'Back to previous …"
      ]
     },
     "metadata": {},
     "output_type": "display_data"
    },
    {
     "name": "stderr",
     "output_type": "stream",
     "text": [
      "Clipping input data to the valid range for imshow with RGB data ([0..1] for floats or [0..255] for integers).\n"
     ]
    },
    {
     "data": {
      "application/vnd.jupyter.widget-view+json": {
       "model_id": "0a9d47174fea4a3bb930cd56e003dbd5",
       "version_major": 2,
       "version_minor": 0
      },
      "text/plain": [
       "Canvas(toolbar=Toolbar(toolitems=[('Home', 'Reset original view', 'home', 'home'), ('Back', 'Back to previous …"
      ]
     },
     "metadata": {},
     "output_type": "display_data"
    },
    {
     "name": "stdout",
     "output_type": "stream",
     "text": [
      "angle between normal 0 and 1: 85.93399089156958 degrees\n",
      "Done. Time elapsed from start: 5.1349., \n",
      "Statistics: \n",
      "reading scene info called 1 times and it took 1.2024 secs. on average\n",
      "clustering normals called 3 times and it took 0.4800 secs. on average\n"
     ]
    }
   ],
   "source": [
    "Config.config_map[Config.show_normals_in_img] = True\n",
    "\n",
    "visualize_normals(impl=\"svd\")"
   ]
  },
  {
   "cell_type": "code",
   "execution_count": 3,
   "id": "authentic-cinema",
   "metadata": {
    "scrolled": false
   },
   "outputs": [
    {
     "name": "stdout",
     "output_type": "stream",
     "text": [
      "Starting the timer\n",
      "Config:\n",
      "  rectify: True,\n",
      "  do_flann: True,\n",
      "  key_planes_based_matching_merge_components: True,\n",
      "  show_normals_in_img: True,\n",
      "  config_map = {'rectify': True, 'do_flann': True, 'key_planes_based_matching_merge_components': True, 'show_normals_in_img': True}\n",
      "  key_do_flann = do_flann\n",
      "  key_planes_based_matching_merge_components = key_planes_based_matching_merge_components\n",
      "  key_rectify = rectify\n",
      "  show_normals_in_img = show_normals_in_img\n",
      "  svd_smoothing = False\n",
      "  svd_smoothing_sigma = 1.33\n",
      "  svd_weighted = True\n",
      "  svd_weighted_sigma = 0.8\n",
      "\n",
      "reading scene info starting\n",
      "scene=scene1, lazy=True\n",
      "reading scene info finished. It took 1.2243540287017822\n",
      "file names:\n",
      "['frame_0000000010_3.npy', 'frame_0000000015_4.npy', 'frame_0000000020_4.npy']\n",
      "input dir:\n",
      "depth_data/mega_depth/scene1\n",
      "Processing: frame_0000000010_3.npy\n",
      "using conv mask\n",
      "Creating dir (if not exists already): None/frame_0000000010_3\n",
      "WARNING: number of clusters unknown for frame_0000000010_3.npy, defaulting to 2 ...\n"
     ]
    },
    {
     "data": {
      "application/vnd.jupyter.widget-view+json": {
       "model_id": "0612ce3ed4c44e6ba450e403cd34ab27",
       "version_major": 2,
       "version_minor": 0
      },
      "text/plain": [
       "Canvas(toolbar=Toolbar(toolitems=[('Home', 'Reset original view', 'home', 'home'), ('Back', 'Back to previous …"
      ]
     },
     "metadata": {},
     "output_type": "display_data"
    },
    {
     "name": "stdout",
     "output_type": "stream",
     "text": [
      "clustering normals starting\n",
      "clustering normals finished. It took 0.6501860618591309\n",
      "show loc: True\n"
     ]
    },
    {
     "data": {
      "application/vnd.jupyter.widget-view+json": {
       "model_id": "7eefea3512d14ba0bef7c59ba39d65c3",
       "version_major": 2,
       "version_minor": 0
      },
      "text/plain": [
       "Canvas(toolbar=Toolbar(toolitems=[('Home', 'Reset original view', 'home', 'home'), ('Back', 'Back to previous …"
      ]
     },
     "metadata": {},
     "output_type": "display_data"
    },
    {
     "name": "stderr",
     "output_type": "stream",
     "text": [
      "Clipping input data to the valid range for imshow with RGB data ([0..1] for floats or [0..255] for integers).\n"
     ]
    },
    {
     "data": {
      "application/vnd.jupyter.widget-view+json": {
       "model_id": "d69a7b88d78a4accac7ec514c7d34805",
       "version_major": 2,
       "version_minor": 0
      },
      "text/plain": [
       "Canvas(toolbar=Toolbar(toolitems=[('Home', 'Reset original view', 'home', 'home'), ('Back', 'Back to previous …"
      ]
     },
     "metadata": {},
     "output_type": "display_data"
    },
    {
     "name": "stdout",
     "output_type": "stream",
     "text": [
      "angle between normal 0 and 1: 89.72027893720947 degrees\n",
      "Processing: frame_0000000015_4.npy\n",
      "using conv mask\n",
      "Creating dir (if not exists already): None/frame_0000000015_4\n",
      "WARNING: number of clusters unknown for frame_0000000015_4.npy, defaulting to 2 ...\n"
     ]
    },
    {
     "name": "stderr",
     "output_type": "stream",
     "text": [
      "/Users/vaclav/ownCloud/diploma_thesis/project/depth_to_normals.py:236: RuntimeWarning: invalid value encountered in true_divide\n",
      "  unit_rotation_vector = rotation_vector[:, :, 0, :] / rotation_vector_norm\n"
     ]
    },
    {
     "data": {
      "application/vnd.jupyter.widget-view+json": {
       "model_id": "661c8c05e44742858b13464f427b8b11",
       "version_major": 2,
       "version_minor": 0
      },
      "text/plain": [
       "Canvas(toolbar=Toolbar(toolitems=[('Home', 'Reset original view', 'home', 'home'), ('Back', 'Back to previous …"
      ]
     },
     "metadata": {},
     "output_type": "display_data"
    },
    {
     "name": "stdout",
     "output_type": "stream",
     "text": [
      "clustering normals starting\n",
      "clustering normals finished. It took 0.6447000503540039\n",
      "show loc: True\n"
     ]
    },
    {
     "data": {
      "application/vnd.jupyter.widget-view+json": {
       "model_id": "5e318027c98441548f62900eac3606bc",
       "version_major": 2,
       "version_minor": 0
      },
      "text/plain": [
       "Canvas(toolbar=Toolbar(toolitems=[('Home', 'Reset original view', 'home', 'home'), ('Back', 'Back to previous …"
      ]
     },
     "metadata": {},
     "output_type": "display_data"
    },
    {
     "name": "stderr",
     "output_type": "stream",
     "text": [
      "Clipping input data to the valid range for imshow with RGB data ([0..1] for floats or [0..255] for integers).\n"
     ]
    },
    {
     "data": {
      "application/vnd.jupyter.widget-view+json": {
       "model_id": "faf9b498f981451a92a6c89b37b5c6a3",
       "version_major": 2,
       "version_minor": 0
      },
      "text/plain": [
       "Canvas(toolbar=Toolbar(toolitems=[('Home', 'Reset original view', 'home', 'home'), ('Back', 'Back to previous …"
      ]
     },
     "metadata": {},
     "output_type": "display_data"
    },
    {
     "name": "stdout",
     "output_type": "stream",
     "text": [
      "angle between normal 0 and 1: 84.83028013301971 degrees\n",
      "Processing: frame_0000000020_4.npy\n",
      "using conv mask\n",
      "Creating dir (if not exists already): None/frame_0000000020_4\n",
      "WARNING: number of clusters unknown for frame_0000000020_4.npy, defaulting to 2 ...\n"
     ]
    },
    {
     "name": "stderr",
     "output_type": "stream",
     "text": [
      "/Users/vaclav/ownCloud/diploma_thesis/project/depth_to_normals.py:236: RuntimeWarning: invalid value encountered in true_divide\n",
      "  unit_rotation_vector = rotation_vector[:, :, 0, :] / rotation_vector_norm\n"
     ]
    },
    {
     "data": {
      "application/vnd.jupyter.widget-view+json": {
       "model_id": "a51911aa722443f39c201c611a72593b",
       "version_major": 2,
       "version_minor": 0
      },
      "text/plain": [
       "Canvas(toolbar=Toolbar(toolitems=[('Home', 'Reset original view', 'home', 'home'), ('Back', 'Back to previous …"
      ]
     },
     "metadata": {},
     "output_type": "display_data"
    },
    {
     "name": "stdout",
     "output_type": "stream",
     "text": [
      "clustering normals starting\n",
      "clustering normals finished. It took 0.6603140830993652\n",
      "show loc: True\n"
     ]
    },
    {
     "data": {
      "application/vnd.jupyter.widget-view+json": {
       "model_id": "18875e58489946d995cb8cfc5ce3bea3",
       "version_major": 2,
       "version_minor": 0
      },
      "text/plain": [
       "Canvas(toolbar=Toolbar(toolitems=[('Home', 'Reset original view', 'home', 'home'), ('Back', 'Back to previous …"
      ]
     },
     "metadata": {},
     "output_type": "display_data"
    },
    {
     "name": "stderr",
     "output_type": "stream",
     "text": [
      "Clipping input data to the valid range for imshow with RGB data ([0..1] for floats or [0..255] for integers).\n"
     ]
    },
    {
     "data": {
      "application/vnd.jupyter.widget-view+json": {
       "model_id": "67996c022f384840adc03e5c2ec4c6dd",
       "version_major": 2,
       "version_minor": 0
      },
      "text/plain": [
       "Canvas(toolbar=Toolbar(toolitems=[('Home', 'Reset original view', 'home', 'home'), ('Back', 'Back to previous …"
      ]
     },
     "metadata": {},
     "output_type": "display_data"
    },
    {
     "name": "stdout",
     "output_type": "stream",
     "text": [
      "angle between normal 0 and 1: 84.19308495516005 degrees\n",
      "Done. Time elapsed from start: 4.8040., \n",
      "Statistics: \n",
      "reading scene info called 2 times and it took 1.2134 secs. on average\n",
      "clustering normals called 6 times and it took 0.5659 secs. on average\n"
     ]
    }
   ],
   "source": [
    "Config.config_map[Config.show_normals_in_img] = True\n",
    "visualize_normals(impl=\"conv_mask\")"
   ]
  },
  {
   "cell_type": "code",
   "execution_count": 4,
   "id": "american-brother",
   "metadata": {
    "scrolled": false
   },
   "outputs": [
    {
     "name": "stdout",
     "output_type": "stream",
     "text": [
      "Starting the timer\n",
      "Config:\n",
      "  rectify: True,\n",
      "  do_flann: True,\n",
      "  key_planes_based_matching_merge_components: True,\n",
      "  show_normals_in_img: True,\n",
      "  config_map = {'rectify': True, 'do_flann': True, 'key_planes_based_matching_merge_components': True, 'show_normals_in_img': True}\n",
      "  key_do_flann = do_flann\n",
      "  key_planes_based_matching_merge_components = key_planes_based_matching_merge_components\n",
      "  key_rectify = rectify\n",
      "  show_normals_in_img = show_normals_in_img\n",
      "  svd_smoothing = False\n",
      "  svd_smoothing_sigma = 1.33\n",
      "  svd_weighted = True\n",
      "  svd_weighted_sigma = 0.8\n",
      "\n",
      "reading scene info starting\n",
      "scene=scene1, lazy=True\n",
      "reading scene info finished. It took 1.1793239116668701\n",
      "file names:\n",
      "['frame_0000000010_3.npy', 'frame_0000000015_4.npy', 'frame_0000000020_4.npy']\n",
      "input dir:\n",
      "depth_data/mega_depth/scene1\n",
      "Processing: frame_0000000010_3.npy\n",
      "using conv mask\n",
      "Creating dir (if not exists already): None/frame_0000000010_3\n",
      "WARNING: number of clusters unknown for frame_0000000010_3.npy, defaulting to 2 ...\n"
     ]
    },
    {
     "data": {
      "application/vnd.jupyter.widget-view+json": {
       "model_id": "f76c51cd3c3240319a141cb2bf9b379c",
       "version_major": 2,
       "version_minor": 0
      },
      "text/plain": [
       "Canvas(toolbar=Toolbar(toolitems=[('Home', 'Reset original view', 'home', 'home'), ('Back', 'Back to previous …"
      ]
     },
     "metadata": {},
     "output_type": "display_data"
    },
    {
     "name": "stdout",
     "output_type": "stream",
     "text": [
      "clustering normals starting\n",
      "clustering normals finished. It took 0.6464340686798096\n",
      "show loc: True\n"
     ]
    },
    {
     "data": {
      "application/vnd.jupyter.widget-view+json": {
       "model_id": "dfdbbe962d7f4da2bf098c867118bcd8",
       "version_major": 2,
       "version_minor": 0
      },
      "text/plain": [
       "Canvas(toolbar=Toolbar(toolitems=[('Home', 'Reset original view', 'home', 'home'), ('Back', 'Back to previous …"
      ]
     },
     "metadata": {},
     "output_type": "display_data"
    },
    {
     "name": "stderr",
     "output_type": "stream",
     "text": [
      "Clipping input data to the valid range for imshow with RGB data ([0..1] for floats or [0..255] for integers).\n",
      "/Users/vaclav/ownCloud/diploma_thesis/project/img_utils.py:31: RuntimeWarning: More than 20 figures have been opened. Figures created through the pyplot interface (`matplotlib.pyplot.figure`) are retained until explicitly closed and may consume too much memory. (To control this warning, see the rcParam `figure.max_open_warning`).\n",
      "  fig = plt.figure()\n"
     ]
    },
    {
     "data": {
      "application/vnd.jupyter.widget-view+json": {
       "model_id": "eda6888998b149fab2f7ab11017c40fa",
       "version_major": 2,
       "version_minor": 0
      },
      "text/plain": [
       "Canvas(toolbar=Toolbar(toolitems=[('Home', 'Reset original view', 'home', 'home'), ('Back', 'Back to previous …"
      ]
     },
     "metadata": {},
     "output_type": "display_data"
    },
    {
     "name": "stdout",
     "output_type": "stream",
     "text": [
      "angle between normal 0 and 1: 64.18038480021256 degrees\n",
      "Processing: frame_0000000015_4.npy\n",
      "using conv mask\n",
      "Creating dir (if not exists already): None/frame_0000000015_4\n",
      "WARNING: number of clusters unknown for frame_0000000015_4.npy, defaulting to 2 ...\n"
     ]
    },
    {
     "data": {
      "application/vnd.jupyter.widget-view+json": {
       "model_id": "aab0a385a4bf4556a3aa7189c1a109a4",
       "version_major": 2,
       "version_minor": 0
      },
      "text/plain": [
       "Canvas(toolbar=Toolbar(toolitems=[('Home', 'Reset original view', 'home', 'home'), ('Back', 'Back to previous …"
      ]
     },
     "metadata": {},
     "output_type": "display_data"
    },
    {
     "name": "stdout",
     "output_type": "stream",
     "text": [
      "clustering normals starting\n",
      "clustering normals finished. It took 0.577786922454834\n",
      "show loc: True\n"
     ]
    },
    {
     "data": {
      "application/vnd.jupyter.widget-view+json": {
       "model_id": "5e8c6444444146ae8cf83f6a57074bb5",
       "version_major": 2,
       "version_minor": 0
      },
      "text/plain": [
       "Canvas(toolbar=Toolbar(toolitems=[('Home', 'Reset original view', 'home', 'home'), ('Back', 'Back to previous …"
      ]
     },
     "metadata": {},
     "output_type": "display_data"
    },
    {
     "name": "stderr",
     "output_type": "stream",
     "text": [
      "Clipping input data to the valid range for imshow with RGB data ([0..1] for floats or [0..255] for integers).\n"
     ]
    },
    {
     "data": {
      "application/vnd.jupyter.widget-view+json": {
       "model_id": "49e8c11a79f14208bea013b278498edd",
       "version_major": 2,
       "version_minor": 0
      },
      "text/plain": [
       "Canvas(toolbar=Toolbar(toolitems=[('Home', 'Reset original view', 'home', 'home'), ('Back', 'Back to previous …"
      ]
     },
     "metadata": {},
     "output_type": "display_data"
    },
    {
     "name": "stdout",
     "output_type": "stream",
     "text": [
      "angle between normal 0 and 1: 71.4048466400643 degrees\n",
      "Processing: frame_0000000020_4.npy\n",
      "using conv mask\n",
      "Creating dir (if not exists already): None/frame_0000000020_4\n",
      "WARNING: number of clusters unknown for frame_0000000020_4.npy, defaulting to 2 ...\n"
     ]
    },
    {
     "data": {
      "application/vnd.jupyter.widget-view+json": {
       "model_id": "5887957bdba247448114bb7a8c4425af",
       "version_major": 2,
       "version_minor": 0
      },
      "text/plain": [
       "Canvas(toolbar=Toolbar(toolitems=[('Home', 'Reset original view', 'home', 'home'), ('Back', 'Back to previous …"
      ]
     },
     "metadata": {},
     "output_type": "display_data"
    },
    {
     "name": "stdout",
     "output_type": "stream",
     "text": [
      "clustering normals starting\n",
      "clustering normals finished. It took 0.6566720008850098\n",
      "show loc: True\n"
     ]
    },
    {
     "data": {
      "application/vnd.jupyter.widget-view+json": {
       "model_id": "b80416086b674c3fbebd4ccc6c43cf14",
       "version_major": 2,
       "version_minor": 0
      },
      "text/plain": [
       "Canvas(toolbar=Toolbar(toolitems=[('Home', 'Reset original view', 'home', 'home'), ('Back', 'Back to previous …"
      ]
     },
     "metadata": {},
     "output_type": "display_data"
    },
    {
     "name": "stderr",
     "output_type": "stream",
     "text": [
      "Clipping input data to the valid range for imshow with RGB data ([0..1] for floats or [0..255] for integers).\n"
     ]
    },
    {
     "data": {
      "application/vnd.jupyter.widget-view+json": {
       "model_id": "0c7c1b854224400b93d45ab34793f312",
       "version_major": 2,
       "version_minor": 0
      },
      "text/plain": [
       "Canvas(toolbar=Toolbar(toolitems=[('Home', 'Reset original view', 'home', 'home'), ('Back', 'Back to previous …"
      ]
     },
     "metadata": {},
     "output_type": "display_data"
    },
    {
     "name": "stdout",
     "output_type": "stream",
     "text": [
      "angle between normal 0 and 1: 68.05912628645774 degrees\n",
      "Done. Time elapsed from start: 4.2494., \n",
      "Statistics: \n",
      "reading scene info called 3 times and it took 1.2020 secs. on average\n",
      "clustering normals called 9 times and it took 0.5862 secs. on average\n"
     ]
    }
   ],
   "source": [
    "Config.config_map[Config.show_normals_in_img] = True\n",
    "visualize_normals(impl=\"conv_mask\", old_impl=True)"
   ]
  },
  {
   "cell_type": "code",
   "execution_count": null,
   "id": "adjusted-kansas",
   "metadata": {},
   "outputs": [],
   "source": []
  }
 ],
 "metadata": {
  "kernelspec": {
   "display_name": "Python 3",
   "language": "python",
   "name": "python3"
  },
  "language_info": {
   "codemirror_mode": {
    "name": "ipython",
    "version": 3
   },
   "file_extension": ".py",
   "mimetype": "text/x-python",
   "name": "python",
   "nbconvert_exporter": "python",
   "pygments_lexer": "ipython3",
   "version": "3.8.5"
  }
 },
 "nbformat": 4,
 "nbformat_minor": 5
}
