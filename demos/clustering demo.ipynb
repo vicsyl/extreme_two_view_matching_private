{
 "cells": [
  {
   "cell_type": "code",
   "execution_count": 1,
   "id": "willing-business",
   "metadata": {
    "scrolled": false
   },
   "outputs": [
    {
     "name": "stdout",
     "output_type": "stream",
     "text": [
      "distributing 300 points across a hemisphere\n",
      "angle between point and its nearest neigbor: tensor([5.0309, 5.0309, 5.2584, 5.2584, 5.4369, 5.6110, 5.6676, 5.7199, 5.7199,\n",
      "        5.7293, 5.7293, 5.7442, 5.7442, 5.7499, 5.7499, 5.7614, 5.7614, 5.7636,\n",
      "        5.7636, 5.7678, 5.7678, 5.7686, 5.7693, 5.7693, 5.7712, 5.7712, 5.7716,\n",
      "        5.7716, 5.7717, 5.7717, 5.7726, 5.7727, 5.7727, 5.7735, 5.7735, 5.7742,\n",
      "        5.7742, 5.7747, 5.7759, 5.7759, 5.7775, 5.7775, 5.7779, 5.7779, 5.7797,\n",
      "        5.7797, 5.7810, 5.7810, 5.7863, 5.7863, 5.7882, 5.7882, 5.7896, 5.7896,\n",
      "        5.7904, 5.7904, 5.7906, 5.7906, 5.7932, 5.7932, 5.7956, 5.7956, 5.7962,\n",
      "        5.7962, 5.7972, 5.7972, 5.7992, 5.7992, 5.7994, 5.7994, 5.8065, 5.8068,\n",
      "        5.8086, 5.8086, 5.8110, 5.8124, 5.8124, 5.8172, 5.8172, 5.8174, 5.8174,\n",
      "        5.8185, 5.8207, 5.8207, 5.8231, 5.8231, 5.8248, 5.8248, 5.8267, 5.8267,\n",
      "        5.8277, 5.8277, 5.8296, 5.8296, 5.8300, 5.8300, 5.8385, 5.8385, 5.8400,\n",
      "        5.8400, 5.8433, 5.8433, 5.8447, 5.8447, 5.8489, 5.8503, 5.8503, 5.8622,\n",
      "        5.8622, 5.8632, 5.8632, 5.8659, 5.8659, 5.8681, 5.8681, 5.8688, 5.8738,\n",
      "        5.8738, 5.8783, 5.8783, 5.8830, 5.8830, 5.8874, 5.8874, 5.8877, 5.9008,\n",
      "        5.9017, 5.9017, 5.9037, 5.9037, 5.9042, 5.9121, 5.9121, 5.9131, 5.9131,\n",
      "        5.9141, 5.9141, 5.9198, 5.9198, 5.9253, 5.9253, 5.9267, 5.9395, 5.9408,\n",
      "        5.9410, 5.9410, 5.9474, 5.9474, 5.9598, 5.9598, 5.9627, 5.9627, 5.9699,\n",
      "        5.9699, 5.9864, 5.9864, 5.9927, 5.9927, 6.0035, 6.0035, 6.0139, 6.0139,\n",
      "        6.0148, 6.0148, 6.0154, 6.0154, 6.0245, 6.0245, 6.0315, 6.0338, 6.0338,\n",
      "        6.0354, 6.0379, 6.0379, 6.0381, 6.0381, 6.0540, 6.0540, 6.0602, 6.0602,\n",
      "        6.0748, 6.0748, 6.0752, 6.0752, 6.0784, 6.0784, 6.0796, 6.0799, 6.0821,\n",
      "        6.0821, 6.0857, 6.0963, 6.0992, 6.1033, 6.1042, 6.1042, 6.1073, 6.1073,\n",
      "        6.1098, 6.1098, 6.1157, 6.1176, 6.1176, 6.1382, 6.1520, 6.1520, 6.1560,\n",
      "        6.1600, 6.1600, 6.1885, 6.1990, 6.2053, 6.2053, 6.2141, 6.2330, 6.2330,\n",
      "        6.2466, 6.2480, 6.2538, 6.2538, 6.2732, 6.2732, 6.2792, 6.2821, 6.2821,\n",
      "        6.2905, 6.3057, 6.3462, 6.3731, 6.3953, 6.3972, 6.4048, 6.4102, 6.4116,\n",
      "        6.4116, 6.4402, 6.4402, 6.4418, 6.4726, 6.5184, 6.5517, 6.5523, 6.5556,\n",
      "        6.5663, 6.5743, 6.5743, 6.5902, 6.5902, 6.6155, 6.6465, 6.6700, 6.6710,\n",
      "        6.7024, 6.7056, 6.7056, 6.7172, 6.7173, 6.7321, 6.7408, 6.7693, 6.7888,\n",
      "        6.7888, 6.8038, 6.8106, 6.8221, 6.8612, 6.8668, 6.9169, 6.9169, 6.9215,\n",
      "        7.0065, 7.0065, 7.0181, 7.0259, 7.0268, 7.1836, 7.1983, 7.2423, 7.2423,\n",
      "        7.2733, 7.2924, 7.3048, 7.3060, 7.3060, 7.3205, 7.3622, 7.3747, 7.4294,\n",
      "        7.4301, 7.4365, 7.4378, 7.4378, 7.4833, 7.4898, 7.4953, 7.4953, 7.5553,\n",
      "        7.7213, 7.8399, 8.1126], dtype=torch.float64)\n",
      "min: 5.030871669251494, max: 8.112584701261564\n"
     ]
    }
   ],
   "source": [
    "import sys\n",
    "sys.path.append(\"../\") \n",
    "from clustering import *\n",
    "\n",
    "# what are the angles between the neearest roughly ekvidistant N points \n",
    "\n",
    "N = Clustering.N_points\n",
    "print(\"distributing {} points across a hemisphere\".format(N))\n",
    "\n",
    "points = n_points_across_half_sphere(N).double()\n",
    "\n",
    "scalar_product = points @ points.T \n",
    "eps = 1e-10\n",
    "scalar_product = torch.clamp(scalar_product, min=-1.0, max=1.0)\n",
    "rads = torch.acos(scalar_product)\n",
    "degs = rads / math.pi * 180\n",
    "sorted, _ = torch.sort(degs, 0)\n",
    "sorted_nearest, _ = torch.sort(sorted[1])\n",
    "print(\"angle between point and its nearest neigbor: {}\".format(sorted_nearest))\n",
    "print(\"min: {}, max: {}\".format(sorted[1].min(), sorted[1].max()))\n"
   ]
  },
  {
   "cell_type": "code",
   "execution_count": null,
   "id": "apart-surveillance",
   "metadata": {
    "scrolled": true
   },
   "outputs": [],
   "source": []
  },
  {
   "cell_type": "code",
   "execution_count": null,
   "id": "minimal-tablet",
   "metadata": {},
   "outputs": [],
   "source": []
  },
  {
   "cell_type": "code",
   "execution_count": null,
   "id": "social-daisy",
   "metadata": {},
   "outputs": [],
   "source": []
  },
  {
   "cell_type": "code",
   "execution_count": null,
   "id": "protecting-alaska",
   "metadata": {},
   "outputs": [],
   "source": []
  },
  {
   "cell_type": "code",
   "execution_count": null,
   "id": "confidential-register",
   "metadata": {},
   "outputs": [],
   "source": []
  },
  {
   "cell_type": "code",
   "execution_count": null,
   "id": "spoken-picture",
   "metadata": {},
   "outputs": [],
   "source": []
  }
 ],
 "metadata": {
  "kernelspec": {
   "display_name": "Python 3",
   "language": "python",
   "name": "python3"
  },
  "language_info": {
   "codemirror_mode": {
    "name": "ipython",
    "version": 3
   },
   "file_extension": ".py",
   "mimetype": "text/x-python",
   "name": "python",
   "nbconvert_exporter": "python",
   "pygments_lexer": "ipython3",
   "version": "3.8.5"
  }
 },
 "nbformat": 4,
 "nbformat_minor": 5
}
